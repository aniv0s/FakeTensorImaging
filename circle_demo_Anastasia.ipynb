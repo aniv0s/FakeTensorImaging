{
 "cells": [
  {
   "cell_type": "code",
   "execution_count": 1,
   "metadata": {
    "collapsed": true
   },
   "outputs": [],
   "source": [
    "%matplotlib inline"
   ]
  },
  {
   "cell_type": "code",
   "execution_count": 2,
   "metadata": {
    "collapsed": false
   },
   "outputs": [],
   "source": [
    "import os\n",
    "import numpy as np\n",
    "import nibabel as nib\n",
    "import scipy.stats\n",
    "from cmath import rect, phase\n",
    "import matplotlib.pyplot as plt"
   ]
  },
  {
   "cell_type": "code",
   "execution_count": 3,
   "metadata": {
    "collapsed": false
   },
   "outputs": [],
   "source": [
    "def mean_angle(rad):\n",
    "    return (phase(sum(rect(1, d) for d in rad)/float(len(rad))))"
   ]
  },
  {
   "cell_type": "code",
   "execution_count": 4,
   "metadata": {
    "collapsed": false
   },
   "outputs": [],
   "source": [
    "img = nib.load('brain.nii')\n",
    "data = img.get_data()"
   ]
  },
  {
   "cell_type": "code",
   "execution_count": 6,
   "metadata": {
    "collapsed": true
   },
   "outputs": [],
   "source": [
    "# geometrical shapes\n",
    "\n",
    "ellipse = (xx - x0)**2 / radius + (yy - y0)**2 / (radius / 2)\n",
    "circle = (xx - x0)**2 + (yy - y0)**2"
   ]
  },
  {
   "cell_type": "code",
   "execution_count": 7,
   "metadata": {
    "collapsed": false
   },
   "outputs": [
    {
     "data": {
      "text/plain": [
       "<matplotlib.text.Text at 0x10e4d3050>"
      ]
     },
     "execution_count": 7,
     "metadata": {},
     "output_type": "execute_result"
    },
    {
     "data": {
      "image/png": "[encoded data removed]",
      "text/plain": [
       "<matplotlib.figure.Figure at 0x109e35750>"
      ]
     },
     "metadata": {},
     "output_type": "display_data"
    }
   ],
   "source": [
    "slice = data[:,28,:,0]\n",
    "\n",
    "# XXX DUMMY SLICE\n",
    "\n",
    "slice = np.zeros(slice.shape)\n",
    "xx, yy = np.mgrid[:slice.shape[0], :slice.shape[1]]\n",
    "x0, y0, radius = 15, 15, 10\n",
    "#slice = circle <= radius**2\n",
    "slice = np.logical_and(radius / 0.4 <= circle,  circle <= radius**2) # for annulus\n",
    "slice = 255 * slice.astype(np.uint8)\n",
    "\n",
    "\n",
    "plt.figure()\n",
    "plt.imshow(slice.T, interpolation='none')\n",
    "plt.title(\"White matter mask\")"
   ]
  },
  {
   "cell_type": "code",
   "execution_count": 11,
   "metadata": {
    "collapsed": false
   },
   "outputs": [
    {
     "data": {
      "text/plain": [
       "array([False,  True], dtype=bool)"
      ]
     },
     "execution_count": 11,
     "metadata": {},
     "output_type": "execute_result"
    }
   ],
   "source": [
    "np.unique(slice_3)"
   ]
  },
  {
   "cell_type": "code",
   "execution_count": 14,
   "metadata": {
    "collapsed": false
   },
   "outputs": [
    {
     "ename": "SyntaxError",
     "evalue": "EOL while scanning string literal (<ipython-input-14-c4762bfc8f8d>, line 16)",
     "output_type": "error",
     "traceback": [
      "\u001b[0;36m  File \u001b[0;32m\"<ipython-input-14-c4762bfc8f8d>\"\u001b[0;36m, line \u001b[0;32m16\u001b[0m\n\u001b[0;31m    \"\"\"\"\u001b[0m\n\u001b[0m        \n^\u001b[0m\n\u001b[0;31mSyntaxError\u001b[0m\u001b[0;31m:\u001b[0m EOL while scanning string literal\n"
     ]
    }
   ],
   "source": [
    "\"\"\"\n",
    "\n",
    "border  = np.zeros_like(slice)\n",
    "for (i, j), val in np.ndenumerate(slice):\n",
    "    if i > 0 and i < slice.shape[0] - 1 and j > 0 and j < slice.shape[1] - 1:\n",
    "        if val > 0:\n",
    "            if slice[i - 1, j] == 0 \\\n",
    "             or slice[i + 1, j] == 0 \\\n",
    "                or slice[i, j - 1] == 0 \\\n",
    "                or slice[i, j + 1] == 0:\n",
    "                    border[i, j] = 1\n",
    "                    \n",
    "plt.figure()\n",
    "plt.title(\"White matter outline\")\n",
    "plt.imshow(border.T, interpolation='none')\n",
    "            \"\"\"\"\n"
   ]
  },
  {
   "cell_type": "code",
   "execution_count": 16,
   "metadata": {
    "collapsed": false
   },
   "outputs": [
    {
     "data": {
      "text/plain": [
       "<matplotlib.image.AxesImage at 0x10ee1b0d0>"
      ]
     },
     "execution_count": 16,
     "metadata": {},
     "output_type": "execute_result"
    },
    {
     "data": {
      "image/png": "[encoded data removed]",
      "text/plain": [
       "<matplotlib.figure.Figure at 0x10ec01990>"
      ]
     },
     "metadata": {},
     "output_type": "display_data"
    }
   ],
   "source": [
    "# we take the border of a bigger circle to start launching particles\n",
    "\n",
    "slice_2 = circle <= radius**2 # the big circle\n",
    "border  = np.zeros_like(slice_2) # border of the bigger circle\n",
    "for (i, j), val in np.ndenumerate(slice_2):\n",
    "    if i > 0 and i < slice_2.shape[0] - 1 and j > 0 and j < slice_2.shape[1] - 1:\n",
    "        if val > 0:\n",
    "            if slice_2[i - 1, j] == 0 \\\n",
    "             or slice_2[i + 1, j] == 0 \\\n",
    "                or slice_2[i, j - 1] == 0 \\\n",
    "                or slice_2[i, j + 1] == 0:\n",
    "                    border[i, j] = 1\n",
    "                    \n",
    "plt.figure()\n",
    "plt.title(\"White matter outline\")\n",
    "plt.imshow(border.T, interpolation='none')\n",
    "                "
   ]
  },
  {
   "cell_type": "code",
   "execution_count": 17,
   "metadata": {
    "collapsed": false
   },
   "outputs": [
    {
     "data": {
      "text/plain": [
       "<matplotlib.text.Text at 0x10efccc50>"
      ]
     },
     "execution_count": 17,
     "metadata": {},
     "output_type": "execute_result"
    },
    {
     "data": {
      "image/png": "[encoded data removed]",
      "text/plain": [
       "<matplotlib.figure.Figure at 0x10c178d90>"
      ]
     },
     "metadata": {},
     "output_type": "display_data"
    }
   ],
   "source": [
    "# inner circle == ventricle == for \n",
    "slice_3 = radius / 0.4 <= circle\n",
    "slice_3 = np.logical_not(slice_3)\n",
    "\n",
    "plt.figure()\n",
    "plt.imshow(slice_3.T, interpolation='none')\n",
    "plt.title(\"White matter mask\")"
   ]
  },
  {
   "cell_type": "code",
   "execution_count": 19,
   "metadata": {
    "collapsed": false
   },
   "outputs": [],
   "source": [
    "idx = np.where(border)\n",
    "n_idx = idx[0].size"
   ]
  },
  {
   "cell_type": "code",
   "execution_count": 53,
   "metadata": {
    "collapsed": false,
    "scrolled": true
   },
   "outputs": [],
   "source": [
    "n_particles = 50\n",
    "density = np.zeros_like(slice, dtype=np.float)\n",
    "direction = np.zeros_like(slice, dtype=np.complex)   # N.B. direction is stored as complex numbers (vector representation in the complex plane) to facilitate averaging\n",
    "\n",
    "# particle walks in the whole slice, but start and end voxel must be in outer border (not inner)\n",
    "\n",
    "for particle_idx in range(n_particles):\n",
    "    if (particle_idx + 1) % 1000 == 0:\n",
    "        print(\"Progress: \" + str(particle_idx + 1) + \" out of \" + str(n_particles))\n",
    "    start_voxel_idx = np.random.randint(n_idx)\n",
    "    start_voxel = np.array([idx[0][start_voxel_idx], idx[1][start_voxel_idx]], dtype=np.int)\n",
    "    direction_ang = scipy.stats.uniform(-np.pi, np.pi).rvs()\n",
    "    direction_vector = np.array([np.cos(direction_ang), np.sin(direction_ang)])\n",
    "\n",
    "    end_voxel = np.array(start_voxel + direction_vector * slice.shape[0] * slice.shape[1], dtype=np.int)\n",
    "    \n",
    "    #\n",
    "    #   simulate particle trajectory\n",
    "    #\n",
    "    \n",
    "    x0, y0, x1, y1 = start_voxel[0], start_voxel[1], end_voxel[0], end_voxel[1]\n",
    "    \n",
    "    steep = 0\n",
    "    x = x0\n",
    "    y = y0\n",
    "    dx = abs(x1 - x0)\n",
    "    dy = abs(y1 - y0)\n",
    "\n",
    "    if (x1 - x) > 0:\n",
    "        sx = 1\n",
    "    else:\n",
    "        sx = -1\n",
    "    if (y1 - y) > 0:\n",
    "        sy = 1\n",
    "    else:\n",
    "        sy = -1\n",
    "\n",
    "    if dy > dx:\n",
    "        steep = 1\n",
    "        x, y = y, x\n",
    "        dx, dy = dy, dx\n",
    "        sx, sy = sy, sx\n",
    "    d = (2 * dy) - dx\n",
    "\n",
    "    rr = -1 * np.ones(int(dx) + 1, dtype=np.intp)\n",
    "    cc = -1 * np.ones(int(dx) + 1, dtype=np.intp)\n",
    "\n",
    "    \n",
    "    for i in range(dx):\n",
    "        #print(\"Step\"+ str(i))\n",
    "        if steep:\n",
    "            rr[i] = x\n",
    "            cc[i] = y\n",
    "        else:\n",
    "            rr[i] = y\n",
    "            cc[i] = x\n",
    "        while d >= 0:\n",
    "            y = y + sy\n",
    "            d = d - (2 * dx)\n",
    "        x = x + sx\n",
    "        d = d + (2 * dy)\n",
    "        \n",
    "        if 0 <= cc[i] < slice.shape[0] and 0 <= rr[i] < slice.shape[1]:\n",
    "            # if the voxel ends up in the inner circle (ventricle), then exclude the whole fiber\n",
    "            if slice_3[cc[i], rr[i]] == True:\n",
    "                cc[0] = -1\n",
    "                rr[0] = -1\n",
    "                break\n",
    "            # stop when it enters outer space        \n",
    "            if slice[cc[i], rr[i]] == 0:\n",
    "                cc[i] = -1\n",
    "                rr[i] = -1\n",
    "                break\n",
    "\n",
    "    rr[dx] = y1\n",
    "    cc[dx] = x1\n",
    "    \n",
    "    #\n",
    "    #     plot the trajectory on the density & direction maps\n",
    "    #\n",
    "    \n",
    "    for i in range(len(cc)):\n",
    "        if cc[0] == -1:\n",
    "            break\n",
    "        if 0 <= cc[i] < slice.shape[0] and 0 <= rr[i] < slice.shape[1] and not (cc[i] == -1):\n",
    "            density[cc[i], rr[i]] += 1.\n",
    "            direction[cc[i], rr[i]] += rect(1, direction_ang)\n",
    "    \n",
    "#\n",
    "#   convert direction back from complex format to angle\n",
    "#\n",
    "\n",
    "direction_ang = np.empty_like(slice, dtype=np.float)\n",
    "for (i, j), _ in np.ndenumerate(direction):\n",
    "    direction_ang[i, j] = phase(direction[i, j])\n",
    "    # density /= float(n_particles)"
   ]
  },
  {
   "cell_type": "code",
   "execution_count": 51,
   "metadata": {
    "collapsed": false
   },
   "outputs": [
    {
     "data": {
      "text/plain": [
       "(array([  -1,    7,    8, ...,   -1,   -1, 1354]),\n",
       " array([  -1,   16,   15, ...,   -1,   -1, -489]),\n",
       " array([ 6, 16]),\n",
       " 5,\n",
       " 6,\n",
       " 16)"
      ]
     },
     "execution_count": 51,
     "metadata": {},
     "output_type": "execute_result"
    }
   ],
   "source": [
    "cc, rr, start_voxel, start_voxel_idx, idx[0][start_voxel_idx], idx[1][start_voxel_idx]"
   ]
  },
  {
   "cell_type": "code",
   "execution_count": 54,
   "metadata": {
    "collapsed": false
   },
   "outputs": [
    {
     "data": {
      "text/plain": [
       "<matplotlib.colorbar.Colorbar instance at 0x1118826c8>"
      ]
     },
     "execution_count": 54,
     "metadata": {},
     "output_type": "execute_result"
    },
    {
     "data": {
      "text/plain": [
       "<matplotlib.figure.Figure at 0x112981690>"
      ]
     },
     "metadata": {},
     "output_type": "display_data"
    },
    {
     "data": {
      "image/png": "[encoded data removed]",
      "text/plain": [
       "<matplotlib.figure.Figure at 0x11218cad0>"
      ]
     },
     "metadata": {},
     "output_type": "display_data"
    },
    {
     "data": {
      "image/png": "[encoded data removed]",
      "text/plain": [
       "<matplotlib.figure.Figure at 0x1128074d0>"
      ]
     },
     "metadata": {},
     "output_type": "display_data"
    }
   ],
   "source": [
    "cmap = plt.cm.jet\n",
    "cmap.set_bad('w', 1.)\n",
    "\n",
    "plt.figure()\n",
    "\n",
    "plt.figure()\n",
    "masked_array = np.ma.array(density, mask=255 - slice)\n",
    "plt.imshow(masked_array.T, interpolation=\"none\")\n",
    "plt.title(\"Particle visit count\")\n",
    "plt.colorbar()\n",
    "\n",
    "plt.figure()\n",
    "masked_array = np.ma.array(direction_ang, mask=255 - slice)\n",
    "plt.imshow(masked_array.T, interpolation='none', cmap=cmap)\n",
    "plt.title(\"Average angle\")\n",
    "plt.colorbar()\n"
   ]
  },
  {
   "cell_type": "code",
   "execution_count": null,
   "metadata": {
    "collapsed": true
   },
   "outputs": [],
   "source": []
  },
  {
   "cell_type": "code",
   "execution_count": null,
   "metadata": {
    "collapsed": true
   },
   "outputs": [],
   "source": []
  }
 ],
 "metadata": {
  "kernelspec": {
   "display_name": "Python 2",
   "language": "python",
   "name": "python2"
  },
  "language_info": {
   "codemirror_mode": {
    "name": "ipython",
    "version": 2
   },
   "file_extension": ".py",
   "mimetype": "text/x-python",
   "name": "python",
   "nbconvert_exporter": "python",
   "pygments_lexer": "ipython2",
   "version": "2.7.11"
  },
  "widgets": {
   "state": {},
   "version": "1.1.2"
  }
 },
 "nbformat": 4,
 "nbformat_minor": 0
}
