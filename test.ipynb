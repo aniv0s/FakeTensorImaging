{
 "cells": [
  {
   "cell_type": "code",
   "execution_count": 6,
   "metadata": {
    "collapsed": true
   },
   "outputs": [],
   "source": [
    "%matplotlib inline"
   ]
  },
  {
   "cell_type": "code",
   "execution_count": 11,
   "metadata": {
    "collapsed": false
   },
   "outputs": [
    {
     "name": "stdout",
     "output_type": "stream",
     "text": [
      "Step0\n",
      "Step1\n",
      "Step2\n",
      "Step3\n",
      "Step4\n",
      "Step5\n",
      "Step6\n",
      "Step7\n",
      "Step8\n"
     ]
    },
    {
     "data": {
      "text/plain": [
       "<matplotlib.image.AxesImage at 0x1040cc390>"
      ]
     },
     "execution_count": 11,
     "metadata": {},
     "output_type": "execute_result"
    },
    {
     "data": {
      "image/png": "[encoded data removed]",
      "text/plain": [
       "<matplotlib.figure.Figure at 0x10f2bbcd0>"
      ]
     },
     "metadata": {},
     "output_type": "display_data"
    }
   ],
   "source": [
    "import numpy as np\n",
    "import matplotlib.pyplot as plt    \n",
    "    \n",
    "    \n",
    "x0 = 1\n",
    "y0 = 1\n",
    "x1 = 10\n",
    "y1 = 5\n",
    "\n",
    "img = np.zeros((15, 15))\n",
    "    \n",
    "steep = 0\n",
    "x = x0\n",
    "y = y0\n",
    "dx = abs(x1 - x0)\n",
    "dy = abs(y1 - y0)\n",
    "\n",
    "if (x1 - x) > 0:\n",
    "    sx = 1\n",
    "else:\n",
    "    sx = -1\n",
    "if (y1 - y) > 0:\n",
    "    sy = 1\n",
    "else:\n",
    "    sy = -1\n",
    "\n",
    "if dy > dx:\n",
    "    steep = 1\n",
    "    x, y = y, x\n",
    "    dx, dy = dy, dx\n",
    "    sx, sy = sy, sx\n",
    "d = (2 * dy) - dx\n",
    "\n",
    "rr = np.zeros(int(dx) + 1, dtype=np.intp)\n",
    "cc = np.zeros(int(dx) + 1, dtype=np.intp)\n",
    "\n",
    "for i in range(dx):\n",
    "    print(\"Step\"+ str(i))\n",
    "    if steep:\n",
    "        rr[i] = x\n",
    "        cc[i] = y\n",
    "    else:\n",
    "        rr[i] = y\n",
    "        cc[i] = x\n",
    "    while d >= 0:\n",
    "        y = y + sy\n",
    "        d = d - (2 * dx)\n",
    "    x = x + sx\n",
    "    d = d + (2 * dy)\n",
    "\n",
    "rr[dx] = y1\n",
    "cc[dx] = x1\n",
    "\n",
    "\n",
    "img[rr, cc] = 1.\n",
    "\n",
    "plt.imshow(img, interpolation=\"none\")\n"
   ]
  },
  {
   "cell_type": "code",
   "execution_count": 12,
   "metadata": {
    "collapsed": false
   },
   "outputs": [
    {
     "data": {
      "text/plain": [
       "9"
      ]
     },
     "execution_count": 12,
     "metadata": {},
     "output_type": "execute_result"
    }
   ],
   "source": [
    "dx"
   ]
  },
  {
   "cell_type": "code",
   "execution_count": 3,
   "metadata": {
    "collapsed": false
   },
   "outputs": [
    {
     "data": {
      "text/plain": [
       "array([ 1,  2,  3,  4,  5,  6,  7,  8,  9, 10])"
      ]
     },
     "execution_count": 3,
     "metadata": {},
     "output_type": "execute_result"
    }
   ],
   "source": [
    "cc"
   ]
  },
  {
   "cell_type": "code",
   "execution_count": null,
   "metadata": {
    "collapsed": true
   },
   "outputs": [],
   "source": []
  }
 ],
 "metadata": {
  "kernelspec": {
   "display_name": "Python 2",
   "language": "python",
   "name": "python2"
  },
  "language_info": {
   "codemirror_mode": {
    "name": "ipython",
    "version": 2
   },
   "file_extension": ".py",
   "mimetype": "text/x-python",
   "name": "python",
   "nbconvert_exporter": "python",
   "pygments_lexer": "ipython2",
   "version": "2.7.11"
  },
  "widgets": {
   "state": {},
   "version": "1.1.2"
  }
 },
 "nbformat": 4,
 "nbformat_minor": 0
}
