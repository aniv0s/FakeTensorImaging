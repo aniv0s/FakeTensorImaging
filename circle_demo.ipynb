{
 "cells": [
  {
   "cell_type": "code",
   "execution_count": 2,
   "metadata": {
    "collapsed": true
   },
   "outputs": [],
   "source": [
    "%matplotlib inline"
   ]
  },
  {
   "cell_type": "code",
   "execution_count": 113,
   "metadata": {
    "collapsed": false
   },
   "outputs": [],
   "source": [
    "import os\n",
    "import numpy as np\n",
    "import nibabel as nib\n",
    "import scipy.stats\n",
    "from cmath import rect, phase\n",
    "import matplotlib.pyplot as plt"
   ]
  },
  {
   "cell_type": "code",
   "execution_count": 114,
   "metadata": {
    "collapsed": false
   },
   "outputs": [],
   "source": [
    "def mean_angle(rad):\n",
    "    return (phase(sum(rect(1, d) for d in rad)/float(len(rad))))"
   ]
  },
  {
   "cell_type": "code",
   "execution_count": 115,
   "metadata": {
    "collapsed": false
   },
   "outputs": [],
   "source": [
    "img = nib.load('brain.nii')\n",
    "data = img.get_data()"
   ]
  },
  {
   "cell_type": "code",
   "execution_count": 130,
   "metadata": {
    "collapsed": false
   },
   "outputs": [
    {
     "data": {
      "text/plain": [
       "<matplotlib.text.Text at 0x7f89a01ad828>"
      ]
     },
     "execution_count": 130,
     "metadata": {},
     "output_type": "execute_result"
    },
    {
     "data": {
      "image/png": "[encoded data removed]",
      "text/plain": [
       "<matplotlib.figure.Figure at 0x7f89a0450e48>"
      ]
     },
     "metadata": {},
     "output_type": "display_data"
    }
   ],
   "source": [
    "slice = data[:,28,:,0]\n",
    "\n",
    "# XXX DUMMY SLICE\n",
    "\n",
    "slice = np.zeros(slice.shape)\n",
    "xx, yy = np.mgrid[:slice.shape[0], :slice.shape[1]]\n",
    "x0, y0, radius = 15, 15, 10\n",
    "circle = (xx - x0)**2 + (yy - y0)**2\n",
    "slice = circle <= radius**2\n",
    "slice = 255 * slice.astype(np.uint8)\n",
    "\n",
    "\n",
    "plt.figure()\n",
    "plt.imshow(slice.T, interpolation='none')\n",
    "plt.title(\"White matter mask\")"
   ]
  },
  {
   "cell_type": "code",
   "execution_count": 131,
   "metadata": {
    "collapsed": false
   },
   "outputs": [
    {
     "data": {
      "text/plain": [
       "<matplotlib.image.AxesImage at 0x7f89a01ddb00>"
      ]
     },
     "execution_count": 131,
     "metadata": {},
     "output_type": "execute_result"
    },
    {
     "data": {
      "image/png": "[encoded data removed]",
      "text/plain": [
       "<matplotlib.figure.Figure at 0x7f89a016e6a0>"
      ]
     },
     "metadata": {},
     "output_type": "display_data"
    }
   ],
   "source": [
    "border  = np.zeros_like(slice)\n",
    "for (i, j), val in np.ndenumerate(slice):\n",
    "    if i > 0 and i < slice.shape[0] - 1 and j > 0 and j < slice.shape[1] - 1:\n",
    "        if val > 0:\n",
    "            if slice[i - 1, j] == 0 \\\n",
    "             or slice[i + 1, j] == 0 \\\n",
    "                or slice[i, j - 1] == 0 \\\n",
    "                or slice[i, j + 1] == 0:\n",
    "                    border[i, j] = 1\n",
    "                    \n",
    "plt.figure()\n",
    "plt.title(\"White matter outline\")\n",
    "plt.imshow(border.T, interpolation='none')\n",
    "                "
   ]
  },
  {
   "cell_type": "code",
   "execution_count": 132,
   "metadata": {
    "collapsed": false
   },
   "outputs": [],
   "source": [
    "idx = np.where(border)\n",
    "n_idx = idx[0].size"
   ]
  },
  {
   "cell_type": "code",
   "execution_count": 156,
   "metadata": {
    "collapsed": false,
    "scrolled": true
   },
   "outputs": [
    {
     "name": "stdout",
     "output_type": "stream",
     "text": [
      "Progress: 1000 out of 5000\n",
      "Progress: 2000 out of 5000\n",
      "Progress: 3000 out of 5000\n",
      "Progress: 4000 out of 5000\n",
      "Progress: 5000 out of 5000\n"
     ]
    }
   ],
   "source": [
    "n_particles = 5000\n",
    "density = np.zeros_like(slice, dtype=np.float)\n",
    "direction = np.zeros_like(slice, dtype=np.complex)   # N.B. direction is stored as complex numbers (vector representation in the complex plane) to facilitate averaging\n",
    "\n",
    "for particle_idx in range(n_particles):\n",
    "    if (particle_idx + 1) % 1000 == 0:\n",
    "        print(\"Progress: \" + str(particle_idx + 1) + \" out of \" + str(n_particles))\n",
    "    start_voxel_idx = np.random.randint(n_idx)\n",
    "    start_voxel = np.array([idx[0][start_voxel_idx], idx[1][start_voxel_idx]], dtype=np.int)\n",
    "    direction_ang = scipy.stats.uniform(-np.pi, np.pi).rvs()\n",
    "    direction_vector = np.array([np.cos(direction_ang), np.sin(direction_ang)])\n",
    "\n",
    "    end_voxel = np.array(start_voxel + direction_vector * slice.shape[0] * slice.shape[1], dtype=np.int)\n",
    "    \n",
    "    #\n",
    "    #   simulate particle trajectory\n",
    "    #\n",
    "    \n",
    "    x0, y0, x1, y1 = start_voxel[0], start_voxel[1], end_voxel[0], end_voxel[1]\n",
    "    \n",
    "    steep = 0\n",
    "    x = x0\n",
    "    y = y0\n",
    "    dx = abs(x1 - x0)\n",
    "    dy = abs(y1 - y0)\n",
    "\n",
    "    if (x1 - x) > 0:\n",
    "        sx = 1\n",
    "    else:\n",
    "        sx = -1\n",
    "    if (y1 - y) > 0:\n",
    "        sy = 1\n",
    "    else:\n",
    "        sy = -1\n",
    "\n",
    "    if dy > dx:\n",
    "        steep = 1\n",
    "        x, y = y, x\n",
    "        dx, dy = dy, dx\n",
    "        sx, sy = sy, sx\n",
    "    d = (2 * dy) - dx\n",
    "\n",
    "    rr = -1 * np.ones(int(dx) + 1, dtype=np.intp)\n",
    "    cc = -1 * np.ones(int(dx) + 1, dtype=np.intp)\n",
    "\n",
    "    for i in range(dx):\n",
    "        #print(\"Step\"+ str(i))\n",
    "        if steep:\n",
    "            rr[i] = x\n",
    "            cc[i] = y\n",
    "        else:\n",
    "            rr[i] = y\n",
    "            cc[i] = x\n",
    "        while d >= 0:\n",
    "            y = y + sy\n",
    "            d = d - (2 * dx)\n",
    "        x = x + sx\n",
    "        d = d + (2 * dy)\n",
    "        \n",
    "        if 0 <= cc[i] < slice.shape[0] and 0 <= rr[i] < slice.shape[1]:\n",
    "            if slice[cc[i], rr[i]] == 0:\n",
    "                cc[i] = -1\n",
    "                rr[i] = -1\n",
    "                break\n",
    "\n",
    "    rr[dx] = y1\n",
    "    cc[dx] = x1\n",
    "    \n",
    "    #\n",
    "    #     plot the trajectory on the density & direction maps\n",
    "    #\n",
    "    \n",
    "    for i in range(len(cc)):\n",
    "        if 0 <= cc[i] < slice.shape[0] and 0 <= rr[i] < slice.shape[1] and not (cc[1] == -1):\n",
    "            density[cc[i], rr[i]] += 1.\n",
    "            direction[cc[i], rr[i]] += rect(1, direction_ang)\n",
    "    \n",
    "#\n",
    "#   convert direction back from complex format to angle\n",
    "#\n",
    "\n",
    "direction_ang = np.empty_like(slice, dtype=np.float)\n",
    "for (i, j), _ in np.ndenumerate(direction):\n",
    "    direction_ang[i, j] = phase(direction[i, j])\n",
    "    # density /= float(n_particles)"
   ]
  },
  {
   "cell_type": "code",
   "execution_count": 162,
   "metadata": {
    "collapsed": false
   },
   "outputs": [
    {
     "data": {
      "text/plain": [
       "<matplotlib.colorbar.Colorbar at 0x7f899f5892b0>"
      ]
     },
     "execution_count": 162,
     "metadata": {},
     "output_type": "execute_result"
    },
    {
     "data": {
      "image/png": "[encoded data removed]",
      "text/plain": [
       "<matplotlib.figure.Figure at 0x7f899f6b6f60>"
      ]
     },
     "metadata": {},
     "output_type": "display_data"
    },
    {
     "data": {
      "image/png": "[encoded data removed]",
      "text/plain": [
       "<matplotlib.figure.Figure at 0x7f899f699fd0>"
      ]
     },
     "metadata": {},
     "output_type": "display_data"
    }
   ],
   "source": [
    "cmap = plt.cm.jet\n",
    "cmap.set_bad('w', 1.)\n",
    "\n",
    "plt.figure()\n",
    "masked_array = np.ma.array(density, mask=255 - slice)\n",
    "plt.imshow(masked_array.T, interpolation=\"none\")\n",
    "plt.title(\"Particle visit count\")\n",
    "plt.colorbar()\n",
    "\n",
    "plt.figure()\n",
    "masked_array = np.ma.array(direction_ang, mask=255 - slice)\n",
    "plt.imshow(masked_array.T, interpolation='none', cmap=cmap)\n",
    "plt.title(\"Average angle\")\n",
    "plt.colorbar()\n"
   ]
  },
  {
   "cell_type": "code",
   "execution_count": null,
   "metadata": {
    "collapsed": true
   },
   "outputs": [],
   "source": []
  }
 ],
 "metadata": {
  "kernelspec": {
   "display_name": "Python 3",
   "language": "python",
   "name": "python3"
  },
  "language_info": {
   "codemirror_mode": {
    "name": "ipython",
    "version": 3
   },
   "file_extension": ".py",
   "mimetype": "text/x-python",
   "name": "python",
   "nbconvert_exporter": "python",
   "pygments_lexer": "ipython3",
   "version": "3.4.3"
  },
  "widgets": {
   "state": {},
   "version": "1.1.2"
  }
 },
 "nbformat": 4,
 "nbformat_minor": 0
}
