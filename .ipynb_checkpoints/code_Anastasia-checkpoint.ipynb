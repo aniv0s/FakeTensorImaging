{
 "cells": [
  {
   "cell_type": "code",
   "execution_count": 1,
   "metadata": {
    "collapsed": true
   },
   "outputs": [],
   "source": [
    "%matplotlib inline"
   ]
  },
  {
   "cell_type": "code",
   "execution_count": 2,
   "metadata": {
    "collapsed": false
   },
   "outputs": [],
   "source": [
    "import os\n",
    "import numpy as np\n",
    "import nibabel as nib\n",
    "import scipy.stats\n",
    "from cmath import rect, phase\n",
    "import matplotlib.pyplot as plt\n",
    "from matplotlib import colors\n",
    "from scipy.ndimage.filters import gaussian_filter\n"
   ]
  },
  {
   "cell_type": "code",
   "execution_count": 3,
   "metadata": {
    "collapsed": false
   },
   "outputs": [],
   "source": [
    "def mean_angle(rad):\n",
    "    return (phase(sum(rect(1, d) for d in rad)/float(len(rad))))"
   ]
  },
  {
   "cell_type": "code",
   "execution_count": 4,
   "metadata": {
    "collapsed": false
   },
   "outputs": [],
   "source": [
    "img = nib.load('panda/3.nii')\n",
    "# value 0 is outside, 1 is grey matter, 2 is white"
   ]
  },
  {
   "cell_type": "code",
   "execution_count": 5,
   "metadata": {
    "collapsed": false
   },
   "outputs": [],
   "source": [
    "data = img.get_data()"
   ]
  },
  {
   "cell_type": "code",
   "execution_count": 6,
   "metadata": {
    "collapsed": false
   },
   "outputs": [
    {
     "data": {
      "text/plain": [
       "<matplotlib.text.Text at 0x10c1c1c50>"
      ]
     },
     "execution_count": 6,
     "metadata": {},
     "output_type": "execute_result"
    },
    {
     "data": {
      "image/png": "[encoded data removed]",
      "text/plain": [
       "<matplotlib.figure.Figure at 0x109e6d610>"
      ]
     },
     "metadata": {},
     "output_type": "display_data"
    }
   ],
   "source": [
    "wm_mask = data[:,3,:,0]\n",
    "\n",
    "\"\"\"# XXX DUMMY wm_mask\n",
    "\n",
    "wm_mask = np.zeros(wm_mask.shape)\n",
    "xx, yy = np.mgrid[:wm_mask.shape[0], :wm_mask.shape[1]]\n",
    "x0, y0, radius = 15, 15, 10\n",
    "circle = (xx - x0)**2 + (yy - y0)**2\n",
    "wm_mask = circle <= radius**2\n",
    "wm_mask = 255 * wm_mask.astype(np.uint8)\"\"\"\n",
    "\n",
    "\n",
    "plt.figure()\n",
    "cmap = colors.ListedColormap(['white', 'red', 'blue'])\n",
    "plt.imshow(wm_mask.T, interpolation='none', cmap=cmap)\n",
    "plt.title(\"White matter mask\")"
   ]
  },
  {
   "cell_type": "code",
   "execution_count": 7,
   "metadata": {
    "collapsed": false
   },
   "outputs": [
    {
     "data": {
      "text/plain": [
       "<matplotlib.image.AxesImage at 0x10eba6650>"
      ]
     },
     "execution_count": 7,
     "metadata": {},
     "output_type": "execute_result"
    },
    {
     "data": {
      "image/png": "[encoded data removed]",
      "text/plain": [
       "<matplotlib.figure.Figure at 0x109e61610>"
      ]
     },
     "metadata": {},
     "output_type": "display_data"
    },
    {
     "data": {
      "image/png": "[encoded data removed]",
      "text/plain": [
       "<matplotlib.figure.Figure at 0x10eb77310>"
      ]
     },
     "metadata": {},
     "output_type": "display_data"
    }
   ],
   "source": [
    "border  = np.zeros_like(wm_mask)\n",
    "for (i, j), val in np.ndenumerate(wm_mask):\n",
    "    if i > 0 and i < wm_mask.shape[0] - 1 and j > 0 and j < wm_mask.shape[1] - 1:\n",
    "        if val == 1:\n",
    "            border[i, j] = 1\n",
    "                    \n",
    "plt.figure()\n",
    "plt.title(\"White matter outline\")\n",
    "cmap = colors.ListedColormap(['white', 'red'])\n",
    "plt.imshow(border.T, interpolation='none', cmap=cmap)\n",
    "\n",
    "\n",
    "background  = np.zeros_like(wm_mask)\n",
    "for (i, j), val in np.ndenumerate(wm_mask):\n",
    "    if val == 0:\n",
    "            background[i, j] = 1\n",
    "\n",
    "plt.figure()\n",
    "plt.title(\"Background\")\n",
    "cmap = colors.ListedColormap(['white', 'red'])\n",
    "plt.imshow(background.T, interpolation='none', cmap=cmap)\n"
   ]
  },
  {
   "cell_type": "code",
   "execution_count": 8,
   "metadata": {
    "collapsed": false
   },
   "outputs": [],
   "source": [
    "idx = np.where(border)\n",
    "n_idx = idx[0].size"
   ]
  },
  {
   "cell_type": "code",
   "execution_count": 9,
   "metadata": {
    "collapsed": false,
    "scrolled": true
   },
   "outputs": [
    {
     "name": "stdout",
     "output_type": "stream",
     "text": [
      "Progress: 1000 out of 1000\n"
     ]
    }
   ],
   "source": [
    "# particle walks only straight \n",
    "\n",
    "n_particles = 1000\n",
    "density = np.zeros_like(wm_mask, dtype=np.float)\n",
    "direction = np.zeros_like(wm_mask, dtype=np.complex)   # N.B. direction is stored as complex numbers (vector representation in the complex plane) to facilitate averaging\n",
    "\n",
    "for particle_idx in range(n_particles):\n",
    "    if (particle_idx + 1) % 1000 == 0:\n",
    "        print(\"Progress: \" + str(particle_idx + 1) + \" out of \" + str(n_particles))\n",
    "    start_voxel_idx = np.random.randint(n_idx)\n",
    "    start_voxel = np.array([idx[0][start_voxel_idx], idx[1][start_voxel_idx]], dtype=np.int)\n",
    "    direction_ang = scipy.stats.uniform(-np.pi, 2*np.pi).rvs()\n",
    "    direction_vector = np.array([np.cos(direction_ang), np.sin(direction_ang)])\n",
    "\n",
    "    end_voxel = np.array(start_voxel + direction_vector * wm_mask.shape[0] * wm_mask.shape[1], dtype=np.int)\n",
    "    \n",
    "    #\n",
    "    #   simulate particle trajectory\n",
    "    #\n",
    "    \n",
    "    x0, y0, x1, y1 = start_voxel[0], start_voxel[1], end_voxel[0], end_voxel[1]\n",
    "    \n",
    "    \n",
    "    steep = 0\n",
    "    x = x0\n",
    "    y = y0\n",
    "    dx = abs(x1 - x0)\n",
    "    dy = abs(y1 - y0)\n",
    "\n",
    "    if (x1 - x) > 0:\n",
    "        sx = 1\n",
    "    else:\n",
    "        sx = -1\n",
    "    if (y1 - y) > 0:\n",
    "        sy = 1\n",
    "    else:\n",
    "        sy = -1\n",
    "\n",
    "    if dy > dx:\n",
    "        steep = 1\n",
    "        x, y = y, x\n",
    "        dx, dy = dy, dx\n",
    "        sx, sy = sy, sx\n",
    "    d = (2 * dy) - dx\n",
    "\n",
    "    rr = -1 * np.ones(int(dx) + 1, dtype=np.intp)\n",
    "    cc = -1 * np.ones(int(dx) + 1, dtype=np.intp)\n",
    "\n",
    "    for i in range(dx):\n",
    "        #print(\"Step\"+ str(i))\n",
    "        if steep:\n",
    "            rr[i] = x\n",
    "            cc[i] = y\n",
    "        else:\n",
    "            rr[i] = y\n",
    "            cc[i] = x\n",
    "        while d >= 0:\n",
    "            y = y + sy\n",
    "            d = d - (2 * dx)\n",
    "        x = x + sx\n",
    "        d = d + (2 * dy)\n",
    "    \n",
    "        \n",
    "        if 0 <= cc[i] < wm_mask.shape[0] and 0 <= rr[i] < wm_mask.shape[1]:\n",
    "#             print(str(wm_mask[cc[i], rr[i]]))\n",
    "            if i > 0 and wm_mask[cc[i], rr[i]] == 1:\n",
    "#                 print(\"hit grey\")\n",
    "                break\n",
    "            if i > 0 and wm_mask[cc[i], rr[i]] == 0:\n",
    "#                 print(\"hit bg\")\n",
    "                cc[0] = -1\n",
    "                rr[0] = -1\n",
    "                break\n",
    "\n",
    "        else:\n",
    "            cc[0] = -1\n",
    "            rr[0] = -1\n",
    "            break\n",
    "\n",
    "\n",
    "    rr[dx] = y1\n",
    "    cc[dx] = x1\n",
    "    \n",
    "    #\n",
    "    #     plot the trajectory on the density & direction maps\n",
    "    #\n",
    "    \n",
    "    for i in range(len(cc)):\n",
    "        if 0 <= cc[i] < wm_mask.shape[0] and 0 <= rr[i] < wm_mask.shape[1] and not (cc[0] == -1):\n",
    "            density[cc[i], rr[i]] += 1.\n",
    "            if direction_ang < 0.:\n",
    "                direction[cc[i], rr[i]] += rect(1, direction_ang + np.pi)\n",
    "            else:\n",
    "                direction[cc[i], rr[i]] += rect(1, direction_ang)\n",
    "    \n",
    "#\n",
    "#   convert direction back from complex format to angle\n",
    "#\n",
    "\n",
    "direction_ang = np.empty_like(wm_mask, dtype=np.float)\n",
    "for (i, j), _ in np.ndenumerate(direction):\n",
    "    direction_ang[i, j] = phase(direction[i, j])\n",
    "    # density /= float(n_particles)"
   ]
  },
  {
   "cell_type": "code",
   "execution_count": 10,
   "metadata": {
    "collapsed": false
   },
   "outputs": [
    {
     "data": {
      "text/plain": [
       "<matplotlib.colorbar.Colorbar instance at 0x10f1b0908>"
      ]
     },
     "execution_count": 10,
     "metadata": {},
     "output_type": "execute_result"
    },
    {
     "data": {
      "image/png": "[encoded data removed]",
      "text/plain": [
       "<matplotlib.figure.Figure at 0x10e53fb10>"
      ]
     },
     "metadata": {},
     "output_type": "display_data"
    },
    {
     "data": {
      "image/png": "[encoded data removed]",
      "text/plain": [
       "<matplotlib.figure.Figure at 0x109e615d0>"
      ]
     },
     "metadata": {},
     "output_type": "display_data"
    }
   ],
   "source": [
    "cmap = plt.cm.jet\n",
    "cmap.set_bad('w', 1.)\n",
    "\n",
    "plt.figure()\n",
    "masked_array = np.ma.array(density, mask=2 - wm_mask)\n",
    "plt.imshow(masked_array.T, interpolation=\"none\")\n",
    "plt.title(\"Particle visit count\")\n",
    "plt.colorbar()\n",
    "\n",
    "plt.figure()\n",
    "masked_array = np.ma.array(direction_ang, mask=2 - wm_mask)\n",
    "plt.imshow(masked_array.T, interpolation='none', cmap=cmap)\n",
    "plt.title(\"Average angle [rad]\")\n",
    "plt.colorbar()\n"
   ]
  },
  {
   "cell_type": "code",
   "execution_count": 23,
   "metadata": {
    "collapsed": false
   },
   "outputs": [
    {
     "name": "stdout",
     "output_type": "stream",
     "text": [
      "1\n",
      "2\n",
      "hit grey\n",
      "1\n",
      "2\n",
      "hit grey\n",
      "1\n",
      "2\n",
      "hit grey\n",
      "1\n",
      "2\n",
      "hit grey\n",
      "1\n",
      "2\n",
      "hit grey\n",
      "1\n",
      "2\n",
      "hit grey\n",
      "1\n",
      "2\n",
      "hit grey\n",
      "1\n",
      "2\n",
      "hit grey\n",
      "1\n",
      "2\n",
      "hit grey\n",
      "1\n",
      "2\n",
      "hit grey\n",
      "1\n",
      "2\n",
      "hit grey\n",
      "1\n",
      "2\n",
      "hit grey\n",
      "1\n",
      "2\n",
      "hit grey\n",
      "1\n",
      "2\n",
      "hit grey\n",
      "1\n",
      "2\n",
      "hit grey\n",
      "1\n",
      "2\n",
      "hit grey\n",
      "1\n",
      "2\n",
      "hit grey\n",
      "1\n",
      "2\n",
      "hit grey\n",
      "1\n",
      "2\n",
      "hit grey\n",
      "1\n",
      "2\n",
      "hit grey\n",
      "1\n",
      "2\n",
      "hit grey\n",
      "1\n",
      "2\n",
      "hit grey\n",
      "1\n",
      "2\n",
      "hit grey\n",
      "1\n",
      "2\n",
      "hit grey\n",
      "1\n",
      "2\n",
      "hit grey\n",
      "1\n",
      "2\n",
      "hit grey\n",
      "1\n",
      "2\n",
      "hit grey\n",
      "1\n",
      "2\n",
      "hit grey\n",
      "1\n",
      "2\n",
      "hit grey\n",
      "1\n",
      "2\n",
      "hit grey\n",
      "1\n",
      "2\n",
      "hit grey\n",
      "1\n",
      "2\n",
      "hit grey\n",
      "1\n",
      "2\n",
      "hit grey\n",
      "1\n",
      "2\n",
      "hit grey\n",
      "1\n",
      "2\n",
      "hit grey\n",
      "1\n",
      "2\n",
      "hit grey\n",
      "1\n",
      "2\n",
      "hit grey\n",
      "1\n",
      "2\n",
      "hit grey\n",
      "1\n",
      "2\n",
      "hit grey\n",
      "1\n",
      "2\n",
      "hit grey\n",
      "1\n",
      "2\n",
      "hit grey\n",
      "1\n",
      "2\n",
      "hit grey\n",
      "1\n",
      "2\n",
      "hit grey\n",
      "1\n",
      "2\n",
      "hit grey\n",
      "1\n",
      "2\n",
      "hit grey\n",
      "1\n",
      "2\n",
      "hit grey\n",
      "1\n",
      "2\n",
      "hit grey\n",
      "1\n",
      "2\n",
      "hit grey\n",
      "1\n",
      "2\n",
      "hit grey\n",
      "1\n",
      "2\n",
      "hit grey\n",
      "1\n",
      "2\n",
      "hit grey\n",
      "1\n",
      "2\n",
      "hit grey\n",
      "1\n",
      "2\n",
      "hit grey\n",
      "1\n",
      "2\n",
      "hit grey\n",
      "1\n",
      "2\n",
      "hit grey\n",
      "1\n",
      "2\n",
      "hit grey\n",
      "1\n",
      "2\n",
      "hit grey\n",
      "1\n",
      "2\n",
      "hit grey\n",
      "1\n",
      "2\n",
      "hit grey\n",
      "1\n",
      "2\n",
      "hit grey\n",
      "1\n",
      "2\n",
      "hit grey\n",
      "1\n",
      "2\n",
      "hit grey\n",
      "1\n",
      "2\n",
      "hit grey\n",
      "1\n",
      "2\n",
      "hit grey\n",
      "1\n",
      "2\n",
      "hit grey\n",
      "1\n",
      "2\n",
      "hit grey\n",
      "1\n",
      "2\n",
      "hit grey\n",
      "1\n",
      "2\n",
      "hit grey\n",
      "1\n",
      "2\n",
      "hit grey\n",
      "1\n",
      "2\n",
      "hit grey\n",
      "1\n",
      "2\n",
      "hit grey\n",
      "1\n",
      "2\n",
      "hit grey\n",
      "1\n",
      "2\n",
      "hit grey\n",
      "1\n",
      "2\n",
      "hit grey\n",
      "1\n",
      "2\n",
      "hit grey\n",
      "1\n",
      "2\n",
      "hit grey\n",
      "1\n",
      "2\n",
      "hit grey\n",
      "1\n",
      "2\n",
      "hit grey\n",
      "1\n",
      "2\n",
      "hit grey\n",
      "1\n",
      "2\n",
      "hit grey\n",
      "1\n",
      "2\n",
      "hit grey\n",
      "1\n",
      "2\n",
      "hit grey\n",
      "1\n",
      "2\n",
      "hit grey\n",
      "1\n",
      "2\n",
      "hit grey\n",
      "1\n",
      "2\n",
      "hit grey\n",
      "1\n",
      "2\n",
      "hit grey\n",
      "1\n",
      "2\n",
      "hit grey\n",
      "1\n",
      "2\n",
      "hit grey\n",
      "1\n",
      "2\n",
      "hit grey\n",
      "1\n",
      "2\n",
      "hit grey\n",
      "1\n",
      "2\n",
      "hit grey\n",
      "1\n",
      "2\n",
      "hit grey\n",
      "1\n",
      "2\n",
      "hit grey\n",
      "1\n",
      "2\n",
      "hit grey\n",
      "1\n",
      "2\n",
      "hit grey\n",
      "1\n",
      "2\n",
      "hit grey\n",
      "1\n",
      "2\n",
      "hit grey\n",
      "1\n",
      "2\n",
      "hit grey\n",
      "1\n",
      "2\n",
      "hit grey\n",
      "1\n",
      "2\n",
      "hit grey\n"
     ]
    }
   ],
   "source": [
    "# random walk\n",
    "\n",
    "#%debug\n",
    "n_particles = 100\n",
    "max_particle_steps = 100\n",
    "density_map = np.zeros_like(wm_mask, dtype=np.float)\n",
    "direction_map = np.zeros_like(wm_mask, dtype=np.complex)   # N.B. direction is stored as complex numbers (vector representation in the complex plane) to facilitate averaging\n",
    "\n",
    "trajectories = []\n",
    "\n",
    "for particle_idx in range(n_particles):\n",
    "    if (particle_idx + 1) % 1000 == 0:\n",
    "        print(\"Progress: \" + str(particle_idx + 1) + \" out of \" + str(n_particles))\n",
    "    start_voxel_idx = np.random.randint(n_idx)\n",
    "    start_voxel = np.array([idx[0][start_voxel_idx], idx[1][start_voxel_idx]], dtype=np.int)\n",
    "    initial_direction_ang = scipy.stats.uniform(0., 2 * np.pi).rvs()\n",
    "    initial_direction_vector = np.array([np.cos(initial_direction_ang), np.sin(initial_direction_ang)])\n",
    "\n",
    "    #\n",
    "    #   simulate particle trajectory\n",
    "    #\n",
    "\n",
    "    voxel_scale = 1.   # scale factor between \"voxel space\" and \"particle space\"\n",
    "\n",
    "    trajectory_x = []\n",
    "    trajectory_y = []\n",
    "    trajectory_voxel_x = []\n",
    "    trajectory_voxel_y = []\n",
    "\n",
    "    x0, y0, x1, y1 = 0., 0., initial_direction_vector[0], initial_direction_vector[1]\n",
    "    \n",
    "    # parameters to tune\n",
    "    dt = .1 # time step\n",
    "    m = .1 # particle mass\n",
    "    lmbd = .1 # damping parameter\n",
    "    zeta = 10.  # drift strength\n",
    "    noise_ampl = .1\n",
    "    for i in range(max_particle_steps):\n",
    "        \n",
    "\n",
    "        voxel_x = np.round(voxel_scale * x0).astype(np.int) + start_voxel[0]\n",
    "        voxel_y = np.round(voxel_scale * y0).astype(np.int) + start_voxel[1]\n",
    "        \n",
    "        \n",
    "        #\n",
    "        #  termination condition: too many steps or particle exited WM mask\n",
    "        #\n",
    "        \n",
    "        \n",
    "#         if voxel_x < 0 or voxel_x >= wm_mask.shape[0] \\\n",
    "#          or voxel_y < 0 or voxel_y >= wm_mask.shape[1] \\\n",
    "#             or wm_mask[voxel_x, voxel_y] == 0:\n",
    "#                 break\n",
    "#         #if voxel_x < 0 or voxel_x >= wm_mask.shape[0] \\\n",
    "# ####         \n",
    "        \n",
    "        if 0 <= voxel_x < wm_mask.shape[0] and 0 <= voxel_y < wm_mask.shape[1]: \n",
    "            print(str(wm_mask[voxel_x, voxel_y]))\n",
    "            if i > 0 and wm_mask[voxel_x, voxel_y] == 1:\n",
    "                print(\"hit grey\")\n",
    "                break\n",
    "            if i > 0 and wm_mask[voxel_x, voxel_y] == 0:\n",
    "                print(\"hit bg\")\n",
    "                trajectory_x = []\n",
    "                trajectory_y = []\n",
    "                trajectory_voxel_x = []\n",
    "                trajectory_voxel_y = []\n",
    "                break\n",
    "\n",
    "        else:\n",
    "            trajectory_x = []\n",
    "            trajectory_y = []\n",
    "            trajectory_voxel_x = []\n",
    "            trajectory_voxel_y = []\n",
    "            break\n",
    "####\n",
    "            \n",
    "        #\n",
    "        #  logging\n",
    "        #\n",
    "\n",
    "        trajectory_x.append(x0)\n",
    "        trajectory_y.append(y0)\n",
    "\n",
    "        trajectory_voxel_x.append(voxel_x)\n",
    "        trajectory_voxel_y.append(voxel_y)\n",
    "\n",
    "        \n",
    "        #\n",
    "        #  update state\n",
    "        #\n",
    "        \n",
    "        grad = np.gradient(gaussian_filter(density_map, sigma=2))\n",
    "        noise_x = noise_ampl * scipy.stats.norm(0., 1.).rvs()   # \n",
    "        noise_y = noise_ampl * scipy.stats.norm(0., 1.).rvs()\n",
    "        dx0 = x1\n",
    "        dy0 = y1\n",
    "        dx1 = (- lmbd * x1 + noise_x + zeta * grad[0][voxel_x, voxel_y]) / m\n",
    "        dy1 = (- lmbd * y1 + noise_y + zeta * grad[1][voxel_x, voxel_y]) / m\n",
    "    \n",
    "        x0 += dt * dx0\n",
    "        y0 += dt * dy0\n",
    "        x1 += dt * dx1\n",
    "        y1 += dt * dy1\n",
    "\n",
    "    trajectories.append((trajectory_voxel_x, trajectory_voxel_y))\n",
    "    \n",
    "    for i in range(len(trajectory_voxel_x)):\n",
    "        if wm_mask[trajectory_voxel_x[i], trajectory_voxel_y[i]] == 0:\n",
    "            print(\"PANIC NOW\")\n",
    "            break\n",
    "    \n",
    "#     trajectory_voxel_x = np.round(voxel_scale * np.array(trajectory_x)).astype(np.int) + start_voxel[0]\n",
    "#     trajectory_voxel_y = np.round(voxel_scale * np.array(trajectory_y)).astype(np.int) + start_voxel[1]\n",
    "\n",
    "    if i > 1 and len(np.unique(trajectory_voxel_x)) > 1 and len(np.unique(trajectory_voxel_y)) > 1:\n",
    "        for i in range(1, len(trajectory_voxel_x)):\n",
    "            direction_vec = np.array([trajectory_x[i] - trajectory_x[i-1], trajectory_y[i] - trajectory_y[i-1]])\n",
    "            density_map[trajectory_voxel_x[i], trajectory_voxel_y[i]] += 1.\n",
    "\n",
    "            if np.linalg.norm(direction_vec) > 0.:\n",
    "                direction_vec /= np.linalg.norm(direction_vec)\n",
    "                direction_ang = np.arctan2(direction_vec[1], direction_vec[0])\n",
    "                if direction_ang < 0.:\n",
    "                    direction_ang += np.pi\n",
    "                direction_map[trajectory_voxel_x[i], trajectory_voxel_y[i]] += rect(1, direction_ang)\n",
    "        \n",
    "#\n",
    "#   convert direction back from complex format to angle\n",
    "#\n",
    "\n",
    "direction_map_ang = np.empty_like(wm_mask, dtype=np.float)\n",
    "for (i, j), _ in np.ndenumerate(direction_map):\n",
    "    direction_map_ang[i, j] = np.abs(np.pi-phase(direction_map[i, j]))\n",
    "    # density /= float(n_particles)"
   ]
  },
  {
   "cell_type": "code",
   "execution_count": 17,
   "metadata": {
    "collapsed": false
   },
   "outputs": [
    {
     "data": {
      "text/plain": [
       "<matplotlib.colorbar.Colorbar instance at 0x10f6c2cb0>"
      ]
     },
     "execution_count": 17,
     "metadata": {},
     "output_type": "execute_result"
    },
    {
     "data": {
      "image/png": "[encoded data removed]",
      "text/plain": [
       "<matplotlib.figure.Figure at 0x10fe7c090>"
      ]
     },
     "metadata": {},
     "output_type": "display_data"
    },
    {
     "data": {
      "image/png": "[encoded data removed]",
      "text/plain": [
       "<matplotlib.figure.Figure at 0x10f66c9d0>"
      ]
     },
     "metadata": {},
     "output_type": "display_data"
    }
   ],
   "source": [
    "cmap = plt.cm.jet\n",
    "cmap.set_bad('w', 1.)\n",
    "\n",
    "plt.figure()\n",
    "masked_array = np.ma.array(density_map, mask=2 - wm_mask)\n",
    "plt.imshow(masked_array.T, interpolation=\"none\")\n",
    "plt.title(\"Particle visit count\")\n",
    "for particle_idx in range(n_particles):\n",
    "    plt.plot(trajectories[particle_idx][0], trajectories[particle_idx][1])\n",
    "plt.colorbar()\n",
    "\n",
    "#cmap = plt.cm.hsv\n",
    "#cmap.set_bad('w', 1.)\n",
    "#norm = mpl.colors.Normalize(vmin=0., vmax=np.pi)\n",
    "norm = None\n",
    "\n",
    "plt.figure()\n",
    "masked_array = np.ma.array(direction_map_ang, mask=2 - wm_mask)\n",
    "plt.imshow(masked_array.T, interpolation='none', cmap=cmap, norm=norm)\n",
    "plt.title(\"Average angle\")\n",
    "plt.colorbar()"
   ]
  },
  {
   "cell_type": "code",
   "execution_count": 93,
   "metadata": {
    "collapsed": false
   },
   "outputs": [],
   "source": [
    "for traj_idx in range(len(trajectories)):\n",
    "    trajectory_voxel_x, trajectory_voxel_y = trajectories[traj_idx]\n",
    "    assert len(trajectory_voxel_x)  == len(trajectory_voxel_y)\n",
    "    for i in range(len(trajectory_voxel_x)):\n",
    "        if wm_mask[trajectory_voxel_x[i], trajectory_voxel_y[i]] == 0:\n",
    "            print(\"PANIC NOW\")\n",
    "            break"
   ]
  },
  {
   "cell_type": "code",
   "execution_count": 115,
   "metadata": {
    "collapsed": false
   },
   "outputs": [],
   "source": [
    "for (i, j),val in np.ndenumerate(np.array(density_map)):\n",
    "\n",
    "    if val > 0 and wm_mask[i, j] == 0:\n",
    "        print(\"PANIC!!\")\n",
    "        break"
   ]
  },
  {
   "cell_type": "code",
   "execution_count": 108,
   "metadata": {
    "collapsed": false
   },
   "outputs": [
    {
     "data": {
      "text/plain": [
       "dtype('float64')"
      ]
     },
     "execution_count": 108,
     "metadata": {},
     "output_type": "execute_result"
    }
   ],
   "source": [
    "np.array(density_map).dtype"
   ]
  },
  {
   "cell_type": "code",
   "execution_count": 51,
   "metadata": {
    "collapsed": false
   },
   "outputs": [
    {
     "data": {
      "text/plain": [
       "memmap([0, 1, 2], dtype=uint8)"
      ]
     },
     "execution_count": 51,
     "metadata": {},
     "output_type": "execute_result"
    }
   ],
   "source": [
    "np.unique(wm_mask)"
   ]
  },
  {
   "cell_type": "code",
   "execution_count": null,
   "metadata": {
    "collapsed": true
   },
   "outputs": [],
   "source": []
  }
 ],
 "metadata": {
  "kernelspec": {
   "display_name": "Python 2",
   "language": "python",
   "name": "python2"
  },
  "language_info": {
   "codemirror_mode": {
    "name": "ipython",
    "version": 2
   },
   "file_extension": ".py",
   "mimetype": "text/x-python",
   "name": "python",
   "nbconvert_exporter": "python",
   "pygments_lexer": "ipython2",
   "version": "2.7.11"
  },
  "widgets": {
   "state": {},
   "version": "1.1.2"
  }
 },
 "nbformat": 4,
 "nbformat_minor": 0
}
