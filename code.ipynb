{
 "cells": [
  {
   "cell_type": "code",
   "execution_count": 1,
   "metadata": {
    "collapsed": true
   },
   "outputs": [],
   "source": [
    "%matplotlib inline"
   ]
  },
  {
   "cell_type": "code",
   "execution_count": 2,
   "metadata": {
    "collapsed": false
   },
   "outputs": [],
   "source": [
    "import os\n",
    "import numpy as np\n",
    "import nibabel as nib\n",
    "import scipy.stats\n",
    "import matplotlib as mpl\n",
    "from cmath import rect, phase\n",
    "import matplotlib.pyplot as plt\n",
    "from scipy.ndimage.filters import gaussian_filter"
   ]
  },
  {
   "cell_type": "code",
   "execution_count": 3,
   "metadata": {
    "collapsed": false
   },
   "outputs": [],
   "source": [
    "def mean_angle(rad):\n",
    "    return (phase(sum(rect(1, d) for d in rad)/float(len(rad))))"
   ]
  },
  {
   "cell_type": "code",
   "execution_count": 4,
   "metadata": {
    "collapsed": false
   },
   "outputs": [],
   "source": [
    "img = nib.load('brain.nii')\n",
    "data = img.get_data()"
   ]
  },
  {
   "cell_type": "code",
   "execution_count": 25,
   "metadata": {
    "collapsed": false
   },
   "outputs": [
    {
     "data": {
      "text/plain": [
       "<matplotlib.text.Text at 0x7f9e3b5b16a0>"
      ]
     },
     "execution_count": 25,
     "metadata": {},
     "output_type": "execute_result"
    },
    {
     "data": {
      "image/png": "[encoded data removed]",
      "text/plain": [
       "<matplotlib.figure.Figure at 0x7f9e3b697b38>"
      ]
     },
     "metadata": {},
     "output_type": "display_data"
    }
   ],
   "source": [
    "slice = data[:,28,:,0]\n",
    "\n",
    "# XXX DUMMY SLICE\n",
    "\n",
    "slice = np.zeros(slice.shape)\n",
    "xx, yy = np.mgrid[:slice.shape[0], :slice.shape[1]]\n",
    "x0, y0, radius = 15, 15, 10\n",
    "circle = (xx - x0)**2 + (yy - y0)**2\n",
    "slice = circle <= radius**2\n",
    "slice = 255 * slice.astype(np.uint8)\n",
    "\n",
    "\n",
    "plt.figure()\n",
    "plt.imshow(slice.T, interpolation='none')\n",
    "plt.title(\"White matter mask\")"
   ]
  },
  {
   "cell_type": "code",
   "execution_count": 26,
   "metadata": {
    "collapsed": false,
    "scrolled": true
   },
   "outputs": [
    {
     "data": {
      "text/plain": [
       "<matplotlib.image.AxesImage at 0x7f9e3b5916d8>"
      ]
     },
     "execution_count": 26,
     "metadata": {},
     "output_type": "execute_result"
    },
    {
     "data": {
      "image/png": "[encoded data removed]",
      "text/plain": [
       "<matplotlib.figure.Figure at 0x7f9e3b59cc18>"
      ]
     },
     "metadata": {},
     "output_type": "display_data"
    }
   ],
   "source": [
    "border  = np.zeros_like(slice)\n",
    "for (i, j), val in np.ndenumerate(slice):\n",
    "    if i > 0 and i < slice.shape[0] - 1 and j > 0 and j < slice.shape[1] - 1:\n",
    "        if val > 0 and i < slice.shape[0]/3:\n",
    "            if slice[i - 1, j] == 0 \\\n",
    "             or slice[i + 1, j] == 0 \\\n",
    "                or slice[i, j - 1] == 0 \\\n",
    "                or slice[i, j + 1] == 0:\n",
    "                    border[i, j] = 1\n",
    "\n",
    "\n",
    "plt.figure()\n",
    "plt.title(\"White matter outline\")\n",
    "plt.imshow(border.T, interpolation='none')\n",
    "                "
   ]
  },
  {
   "cell_type": "code",
   "execution_count": 27,
   "metadata": {
    "collapsed": false
   },
   "outputs": [],
   "source": [
    "idx = np.where(border)\n",
    "n_idx = idx[0].size"
   ]
  },
  {
   "cell_type": "code",
   "execution_count": 35,
   "metadata": {
    "collapsed": false,
    "scrolled": true
   },
   "outputs": [],
   "source": [
    "#%debug\n",
    "n_particles = 50\n",
    "max_particle_steps = 1000\n",
    "density_map = np.zeros_like(slice, dtype=np.float)\n",
    "direction_map = np.zeros_like(slice, dtype=np.complex)   # N.B. direction is stored as complex numbers (vector representation in the complex plane) to facilitate averaging\n",
    "\n",
    "trajectories = []\n",
    "\n",
    "for particle_idx in range(n_particles):\n",
    "    if (particle_idx + 1) % 1000 == 0:\n",
    "        print(\"Progress: \" + str(particle_idx + 1) + \" out of \" + str(n_particles))\n",
    "    start_voxel_idx = np.random.randint(n_idx)\n",
    "    start_voxel = np.array([idx[0][start_voxel_idx], idx[1][start_voxel_idx]], dtype=np.int)\n",
    "    initial_direction_ang = scipy.stats.uniform(0., 2 * np.pi).rvs()\n",
    "    initial_direction_vector = np.array([np.cos(initial_direction_ang), np.sin(initial_direction_ang)])\n",
    "\n",
    "    #\n",
    "    #   simulate particle trajectory\n",
    "    #\n",
    "\n",
    "    voxel_scale = 1.   # scale factor between \"voxel space\" and \"particle space\"\n",
    "\n",
    "    trajectory_x = []\n",
    "    trajectory_y = []\n",
    "    trajectory_voxel_x = []\n",
    "    trajectory_voxel_y = []\n",
    "\n",
    "    x0, y0, x1, y1 = 0., 0., initial_direction_vector[0], initial_direction_vector[1]\n",
    "    dt = .1\n",
    "    m = .1 # particle mass\n",
    "    lmbd = .1 # damping parameter\n",
    "    zeta = 10.  # drift strength\n",
    "    noise_ampl = .1\n",
    "    for i in range(max_particle_steps):\n",
    "\n",
    "        voxel_x = np.round(voxel_scale * x0).astype(np.int) + start_voxel[0]\n",
    "        voxel_y = np.round(voxel_scale * y0).astype(np.int) + start_voxel[1]\n",
    "        \n",
    "        \n",
    "        #\n",
    "        #  termination condition: too many steps or particle exited WM mask\n",
    "        #\n",
    "        \n",
    "        if voxel_x < 0 or voxel_x >= slice.shape[0] \\\n",
    "         or voxel_y < 0 or voxel_y >= slice.shape[1] \\\n",
    "         or slice[voxel_x, voxel_y] == 0:\n",
    "            break\n",
    "\n",
    "            \n",
    "        #\n",
    "        #  logging\n",
    "        #\n",
    "\n",
    "        trajectory_x.append(x0)\n",
    "        trajectory_y.append(y0)\n",
    "\n",
    "        trajectory_voxel_x.append(voxel_x)\n",
    "        trajectory_voxel_y.append(voxel_y)\n",
    "\n",
    "            \n",
    "        #\n",
    "        #  update state\n",
    "        #\n",
    "        \n",
    "        grad = np.gradient(gaussian_filter(density_map, sigma=2))\n",
    "        noise_x = noise_ampl * scipy.stats.norm(0., 1.).rvs()   # \n",
    "        noise_y = noise_ampl * scipy.stats.norm(0., 1.).rvs()\n",
    "        dx0 = x1\n",
    "        dy0 = y1\n",
    "        dx1 = (- lmbd * x1 + noise_x + zeta * grad[0][voxel_x, voxel_y]) / m\n",
    "        dy1 = (- lmbd * y1 + noise_y + zeta * grad[1][voxel_x, voxel_y]) / m\n",
    "    \n",
    "        x0 += dt * dx0\n",
    "        y0 += dt * dy0\n",
    "        x1 += dt * dx1\n",
    "        y1 += dt * dy1\n",
    "\n",
    "    trajectories.append((trajectory_voxel_x, trajectory_voxel_y))\n",
    "#     trajectory_voxel_x = np.round(voxel_scale * np.array(trajectory_x)).astype(np.int) + start_voxel[0]\n",
    "#     trajectory_voxel_y = np.round(voxel_scale * np.array(trajectory_y)).astype(np.int) + start_voxel[1]\n",
    "\n",
    "    if i > 1 and len(np.unique(trajectory_voxel_x)) > 1 and len(np.unique(trajectory_voxel_y)) > 1:\n",
    "        for i in range(1, len(trajectory_voxel_x)):\n",
    "            direction_vec = np.array([trajectory_x[i] - trajectory_x[i-1], trajectory_y[i] - trajectory_y[i-1]])\n",
    "            density_map[trajectory_voxel_x[i], trajectory_voxel_y[i]] += 1.\n",
    "\n",
    "            if np.linalg.norm(direction_vec) > 0.:\n",
    "                direction_vec /= np.linalg.norm(direction_vec)\n",
    "                direction_ang = np.arctan2(direction_vec[1], direction_vec[0])\n",
    "                if direction_ang < 0.:\n",
    "                    direction_ang += np.pi\n",
    "                direction_map[trajectory_voxel_x[i], trajectory_voxel_y[i]] += rect(1, direction_ang)\n",
    "        \n",
    "#\n",
    "#   convert direction back from complex format to angle\n",
    "#\n",
    "\n",
    "direction_map_ang = np.empty_like(slice, dtype=np.float)\n",
    "for (i, j), _ in np.ndenumerate(direction_map):\n",
    "    direction_map_ang[i, j] = np.abs(np.pi-phase(direction_map[i, j]))\n",
    "    # density /= float(n_particles)"
   ]
  },
  {
   "cell_type": "code",
   "execution_count": 36,
   "metadata": {
    "collapsed": false
   },
   "outputs": [
    {
     "data": {
      "text/plain": [
       "<matplotlib.colorbar.Colorbar at 0x7f9e3af31f28>"
      ]
     },
     "execution_count": 36,
     "metadata": {},
     "output_type": "execute_result"
    },
    {
     "data": {
      "image/png": "[encoded data removed]",
      "text/plain": [
       "<matplotlib.figure.Figure at 0x7f9e3aee2f60>"
      ]
     },
     "metadata": {},
     "output_type": "display_data"
    },
    {
     "data": {
      "image/png": "[encoded data removed]",
      "text/plain": [
       "<matplotlib.figure.Figure at 0x7f9e3adf9a90>"
      ]
     },
     "metadata": {},
     "output_type": "display_data"
    }
   ],
   "source": [
    "cmap = plt.cm.jet\n",
    "cmap.set_bad('w', 1.)\n",
    "\n",
    "plt.figure()\n",
    "masked_array = np.ma.array(density_map, mask=255 - slice)\n",
    "plt.imshow(masked_array.T, interpolation=\"none\")\n",
    "plt.title(\"Particle visit count\")\n",
    "for particle_idx in range(n_particles):\n",
    "    plt.plot(trajectories[particle_idx][0], trajectories[particle_idx][1])\n",
    "plt.colorbar()\n",
    "\n",
    "#cmap = plt.cm.hsv\n",
    "#cmap.set_bad('w', 1.)\n",
    "#norm = mpl.colors.Normalize(vmin=0., vmax=np.pi)\n",
    "norm = None\n",
    "\n",
    "plt.figure()\n",
    "masked_array = np.ma.array(direction_map_ang, mask=255 - slice)\n",
    "plt.imshow(masked_array.T, interpolation='none', cmap=cmap, norm=norm)\n",
    "plt.title(\"Average angle\")\n",
    "plt.colorbar()\n"
   ]
  },
  {
   "cell_type": "code",
   "execution_count": 6,
   "metadata": {
    "collapsed": false
   },
   "outputs": [
    {
     "data": {
      "text/plain": [
       "<matplotlib.colorbar.Colorbar at 0x7f9e413460b8>"
      ]
     },
     "execution_count": 6,
     "metadata": {},
     "output_type": "execute_result"
    },
    {
     "data": {
      "image/png": "[encoded data removed]",
      "text/plain": [
       "<matplotlib.figure.Figure at 0x7f9e4145ca58>"
      ]
     },
     "metadata": {},
     "output_type": "display_data"
    }
   ],
   "source": [
    "plt.imshow(gaussian_filter(slice, sigma=2), interpolation=\"none\")\n",
    "plt.colorbar()"
   ]
  },
  {
   "cell_type": "code",
   "execution_count": 23,
   "metadata": {
    "collapsed": false
   },
   "outputs": [
    {
     "name": "stdout",
     "output_type": "stream",
     "text": [
      "min = 0, max = 254\n",
      "gradx min = -47.0, max = 47.0\n"
     ]
    }
   ],
   "source": [
    "img = gaussian_filter(slice, sigma=2)\n",
    "\n",
    "gradx, grady = np.gradient(img.astype(np.float))\n",
    "print(\"min = \" + str(np.amin(img)) + \", max = \" + str(np.amax(img)))\n",
    "print(\"gradx min = \" + str(np.amin(gradx)) + \", max = \" + str(np.amax(gradx)))\n",
    "#X, Y = np.meshgrid(np.linspace(0, slice.shape[0], slice.shape[0]), np.linspace(0, slice.shape[1], slice.shape[1]))\n",
    "#plt.quiver(Y.T, X.T, gradx, grady, pivot=\"mid\")\n",
    "# plt.imshow(grady)"
   ]
  },
  {
   "cell_type": "code",
   "execution_count": 24,
   "metadata": {
    "collapsed": false
   },
   "outputs": [
    {
     "data": {
      "text/plain": [
       "<matplotlib.colorbar.Colorbar at 0x7f9e3b5d0978>"
      ]
     },
     "execution_count": 24,
     "metadata": {},
     "output_type": "execute_result"
    },
    {
     "data": {
      "image/png": "[encoded data removed]",
      "text/plain": [
       "<matplotlib.figure.Figure at 0x7f9e401ae6d8>"
      ]
     },
     "metadata": {},
     "output_type": "display_data"
    }
   ],
   "source": [
    "plt.imshow(gradx, interpolation=\"none\")\n",
    "plt.colorbar()\n",
    "#np.unique(np.abs(gradx))"
   ]
  },
  {
   "cell_type": "code",
   "execution_count": 9,
   "metadata": {
    "collapsed": false
   },
   "outputs": [
    {
     "data": {
      "text/plain": [
       "(45, 32)"
      ]
     },
     "execution_count": 9,
     "metadata": {},
     "output_type": "execute_result"
    }
   ],
   "source": [
    "np.gradient(gaussian_filter(slice, sigma=2))[0].shape"
   ]
  },
  {
   "cell_type": "code",
   "execution_count": null,
   "metadata": {
    "collapsed": true
   },
   "outputs": [],
   "source": []
  },
  {
   "cell_type": "code",
   "execution_count": null,
   "metadata": {
    "collapsed": true
   },
   "outputs": [],
   "source": []
  }
 ],
 "metadata": {
  "kernelspec": {
   "display_name": "Python 3",
   "language": "python",
   "name": "python3"
  },
  "language_info": {
   "codemirror_mode": {
    "name": "ipython",
    "version": 3
   },
   "file_extension": ".py",
   "mimetype": "text/x-python",
   "name": "python",
   "nbconvert_exporter": "python",
   "pygments_lexer": "ipython3",
   "version": "3.4.3"
  },
  "widgets": {
   "state": {},
   "version": "1.1.2"
  }
 },
 "nbformat": 4,
 "nbformat_minor": 0
}
