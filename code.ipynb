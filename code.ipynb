{
 "cells": [
  {
   "cell_type": "code",
   "execution_count": 15,
   "metadata": {
    "collapsed": true
   },
   "outputs": [],
   "source": [
    "%matplotlib inline"
   ]
  },
  {
   "cell_type": "code",
   "execution_count": 41,
   "metadata": {
    "collapsed": true
   },
   "outputs": [],
   "source": [
    "import os\n",
    "import numpy as np\n",
    "import nibabel as nib\n",
    "import scipy.stats\n",
    "from skimage.draw import line\n",
    "from cmath import rect, phase\n"
   ]
  },
  {
   "cell_type": "code",
   "execution_count": 17,
   "metadata": {
    "collapsed": true
   },
   "outputs": [],
   "source": [
    "import matplotlib.pyplot as plt"
   ]
  },
  {
   "cell_type": "code",
   "execution_count": 18,
   "metadata": {
    "collapsed": false
   },
   "outputs": [],
   "source": [
    "img = nib.load('brain.nii')"
   ]
  },
  {
   "cell_type": "code",
   "execution_count": 19,
   "metadata": {
    "collapsed": false
   },
   "outputs": [],
   "source": [
    "data = img.get_data()"
   ]
  },
  {
   "cell_type": "code",
   "execution_count": 20,
   "metadata": {
    "collapsed": false
   },
   "outputs": [
    {
     "data": {
      "text/plain": [
       "(45, 56, 32, 1)"
      ]
     },
     "execution_count": 20,
     "metadata": {},
     "output_type": "execute_result"
    }
   ],
   "source": [
    "data.shape"
   ]
  },
  {
   "cell_type": "code",
   "execution_count": 21,
   "metadata": {
    "collapsed": true
   },
   "outputs": [],
   "source": [
    "slice = data[:,28,:,0]"
   ]
  },
  {
   "cell_type": "code",
   "execution_count": 133,
   "metadata": {
    "collapsed": false
   },
   "outputs": [
    {
     "data": {
      "text/plain": [
       "<matplotlib.image.AxesImage at 0x112e23bd0>"
      ]
     },
     "execution_count": 133,
     "metadata": {},
     "output_type": "execute_result"
    },
    {
     "data": {
      "image/png": "[encoded data removed]",
      "text/plain": [
       "<matplotlib.figure.Figure at 0x111d758d0>"
      ]
     },
     "metadata": {},
     "output_type": "display_data"
    }
   ],
   "source": [
    "plt.imshow(slice, interpolation='none')"
   ]
  },
  {
   "cell_type": "code",
   "execution_count": 27,
   "metadata": {
    "collapsed": false
   },
   "outputs": [],
   "source": [
    "border  = np.zeros_like(slice)\n",
    "for (i, j), val in np.ndenumerate(slice):\n",
    "    if i > 0 and i < slice.shape[0] - 1 and j > 0 and j < slice.shape[1] - 1:\n",
    "        if val == 255:\n",
    "            if slice[i - 1, j] == 0 \\\n",
    "             or slice[i + 1, j] == 0 \\\n",
    "                or slice[i, j - 1] == 0 \\\n",
    "                or slice[i, j + 1] == 0:\n",
    "                    border[i, j] = 1\n",
    "                "
   ]
  },
  {
   "cell_type": "code",
   "execution_count": 55,
   "metadata": {
    "collapsed": false
   },
   "outputs": [
    {
     "data": {
      "text/plain": [
       "<matplotlib.image.AxesImage at 0x11204a690>"
      ]
     },
     "execution_count": 55,
     "metadata": {},
     "output_type": "execute_result"
    },
    {
     "data": {
      "image/png": "[encoded data removed]",
      "text/plain": [
       "<matplotlib.figure.Figure at 0x111b7f090>"
      ]
     },
     "metadata": {},
     "output_type": "display_data"
    }
   ],
   "source": [
    "plt.imshow(border, interpolation='none')"
   ]
  },
  {
   "cell_type": "code",
   "execution_count": 32,
   "metadata": {
    "collapsed": false
   },
   "outputs": [],
   "source": [
    "idx = np.where(border)\n",
    "n_idx = idx[0].size"
   ]
  },
  {
   "cell_type": "code",
   "execution_count": 187,
   "metadata": {
    "collapsed": true
   },
   "outputs": [],
   "source": [
    "def mean_angle(rad):\n",
    "    return (phase(sum(rect(1, d) for d in rad)/float(len(rad)))\n"
   ]
  },
  {
   "cell_type": "code",
   "execution_count": 210,
   "metadata": {
    "collapsed": false
   },
   "outputs": [
    {
     "data": {
      "text/plain": [
       "<matplotlib.image.AxesImage at 0x1396c8c50>"
      ]
     },
     "execution_count": 210,
     "metadata": {},
     "output_type": "execute_result"
    },
    {
     "data": {
      "image/png": "[encoded data removed]",
      "text/plain": [
       "<matplotlib.figure.Figure at 0x139040450>"
      ]
     },
     "metadata": {},
     "output_type": "display_data"
    }
   ],
   "source": [
    "n_particles = 10\n",
    "density = np.zeros_like(slice)\n",
    "direction = np.zeros((slice.shape[0], slice.shape[1], n_particles))\n",
    "direction_new = np.zeros_like(slice, dtype=np.float)\n",
    "\n",
    "for particle_idx in xrange(n_particles):\n",
    "    start_voxel_idx = np.random.randint(n_idx)\n",
    "    start_voxel = np.array([idx[0][start_voxel_idx], idx[1][start_voxel_idx]], dtype=np.int)\n",
    "    direction_ang = -np.pi/2.#scipy.stats.uniform(-np.pi, np.pi).rvs()\n",
    "    direction_vector = np.array([np.cos(direction_ang), np.sin(direction_ang)])\n",
    "\n",
    "    end_voxel = np.array(start_voxel + direction_vector * slice.shape[0] * slice.shape[1], dtype=np.int)\n",
    "    \n",
    "    #\n",
    "    #   simulate particle trajectory\n",
    "    #\n",
    "    \n",
    "    x0, y0, x1, y1 = start_voxel[0], start_voxel[1], end_voxel[0], end_voxel[1]\n",
    "    \n",
    "    steep = 0\n",
    "    x = x0\n",
    "    y = y0\n",
    "    dx = abs(x1 - x0)\n",
    "    dy = abs(y1 - y0)\n",
    "\n",
    "    if (x1 - x) > 0:\n",
    "        sx = 1\n",
    "    else:\n",
    "        sx = -1\n",
    "    if (y1 - y) > 0:\n",
    "        sy = 1\n",
    "    else:\n",
    "        sy = -1\n",
    "\n",
    "    if dy > dx:\n",
    "        steep = 1\n",
    "        x, y = y, x\n",
    "        dx, dy = dy, dx\n",
    "        sx, sy = sy, sx\n",
    "    d = (2 * dy) - dx\n",
    "\n",
    "    rr = -1 * np.ones(int(dx) + 1, dtype=np.intp)\n",
    "    cc = -1 * np.ones(int(dx) + 1, dtype=np.intp)\n",
    "\n",
    "    for i in range(dx):\n",
    "        #print(\"Step\"+ str(i))\n",
    "        if steep:\n",
    "            rr[i] = x\n",
    "            cc[i] = y\n",
    "        else:\n",
    "            rr[i] = y\n",
    "            cc[i] = x\n",
    "        while d >= 0:\n",
    "            y = y + sy\n",
    "            d = d - (2 * dx)\n",
    "        x = x + sx\n",
    "        d = d + (2 * dy)\n",
    "        \n",
    "        if 0 <= cc[i] < slice.shape[0] and 0 <= rr[i] < slice.shape[1]:\n",
    "            if slice[cc[i], rr[i]] == 0:\n",
    "                cc[i] = -1\n",
    "                rr[i] = -1\n",
    "                break\n",
    "\n",
    "    rr[dx] = y1\n",
    "    cc[dx] = x1\n",
    "    \n",
    "    #\n",
    "    #     plot the trajectory\n",
    "    #\n",
    "    \n",
    "    #rr, cc = line(start_voxel[0], start_voxel[1], end_voxel[0], end_voxel[1])\n",
    " \n",
    "    \n",
    "    for i in xrange(len(cc)):\n",
    "        if 0 <= cc[i] < slice.shape[0] and 0 <= rr[i] < slice.shape[1]:\n",
    "            density[cc[i], rr[i]] += 1.\n",
    "            direction[cc[i], rr[i], particle_idx] = direction_ang\n",
    "    #dummy *= slice\n",
    "\n",
    "                     \n",
    "for i in range(slice.shape[0]):\n",
    "    for j in range(slice.shape[1]):\n",
    "        direction_new[i,j] = mean_angle(direction[i, j, :])\n",
    "                     \n",
    "    \n",
    "                    \n",
    "plt.imshow(density, interpolation=\"none\")\n"
   ]
  },
  {
   "cell_type": "code",
   "execution_count": 211,
   "metadata": {
    "collapsed": false
   },
   "outputs": [
    {
     "data": {
      "text/plain": [
       "<matplotlib.colorbar.Colorbar instance at 0x13980ad88>"
      ]
     },
     "execution_count": 211,
     "metadata": {},
     "output_type": "execute_result"
    },
    {
     "data": {
      "image/png": "[encoded data removed]",
      "text/plain": [
       "<matplotlib.figure.Figure at 0x1396112d0>"
      ]
     },
     "metadata": {},
     "output_type": "display_data"
    }
   ],
   "source": [
    "plt.imshow(direction_new, interpolation=\"none\")\n",
    "plt.colorbar()\n"
   ]
  },
  {
   "cell_type": "code",
   "execution_count": 197,
   "metadata": {
    "collapsed": false
   },
   "outputs": [
    {
     "data": {
      "text/plain": [
       "-0.01506457684338591"
      ]
     },
     "execution_count": 197,
     "metadata": {},
     "output_type": "execute_result"
    }
   ],
   "source": [
    "mean_angle(direction[8, 14, :])"
   ]
  },
  {
   "cell_type": "code",
   "execution_count": 207,
   "metadata": {
    "collapsed": false
   },
   "outputs": [
    {
     "data": {
      "text/plain": [
       "-0.2617993877991494"
      ]
     },
     "execution_count": 207,
     "metadata": {},
     "output_type": "execute_result"
    }
   ],
   "source": [
    "mean_angle([-np.pi/2., np.pi/3.\n",
    "           ])"
   ]
  },
  {
   "cell_type": "code",
   "execution_count": 132,
   "metadata": {
    "collapsed": false
   },
   "outputs": [
    {
     "data": {
      "text/plain": [
       "255"
      ]
     },
     "execution_count": 132,
     "metadata": {},
     "output_type": "execute_result"
    }
   ],
   "source": [
    "slice[17, 4]"
   ]
  },
  {
   "cell_type": "code",
   "execution_count": 54,
   "metadata": {
    "collapsed": false
   },
   "outputs": [
    {
     "data": {
      "text/plain": [
       "<matplotlib.image.AxesImage at 0x111cd2c90>"
      ]
     },
     "execution_count": 54,
     "metadata": {},
     "output_type": "execute_result"
    },
    {
     "data": {
      "image/png": "[encoded data removed]",
      "text/plain": [
       "<matplotlib.figure.Figure at 0x111a34210>"
      ]
     },
     "metadata": {},
     "output_type": "display_data"
    }
   ],
   "source": [
    "from skimage.draw import line\n",
    "img = np.zeros((10, 10), dtype=np.uint8)\n",
    "rr, cc = line(1, 1, 8, 4)\n",
    "img[rr, cc] =  255\n",
    "plt.imshow(img, interpolation='none')"
   ]
  },
  {
   "cell_type": "code",
   "execution_count": 52,
   "metadata": {
    "collapsed": false
   },
   "outputs": [
    {
     "data": {
      "text/plain": [
       "array([0], dtype=uint8)"
      ]
     },
     "execution_count": 52,
     "metadata": {},
     "output_type": "execute_result"
    }
   ],
   "source": [
    "np.unique(img)"
   ]
  },
  {
   "cell_type": "code",
   "execution_count": null,
   "metadata": {
    "collapsed": true
   },
   "outputs": [],
   "source": []
  }
 ],
 "metadata": {
  "kernelspec": {
   "display_name": "Python 2",
   "language": "python",
   "name": "python2"
  },
  "language_info": {
   "codemirror_mode": {
    "name": "ipython",
    "version": 2
   },
   "file_extension": ".py",
   "mimetype": "text/x-python",
   "name": "python",
   "nbconvert_exporter": "python",
   "pygments_lexer": "ipython2",
   "version": "2.7.11"
  },
  "widgets": {
   "state": {},
   "version": "1.1.2"
  }
 },
 "nbformat": 4,
 "nbformat_minor": 0
}
