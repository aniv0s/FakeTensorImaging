{
 "cells": [
  {
   "cell_type": "code",
   "execution_count": 1,
   "metadata": {
    "collapsed": true
   },
   "outputs": [],
   "source": [
    "%matplotlib inline"
   ]
  },
  {
   "cell_type": "code",
   "execution_count": 194,
   "metadata": {
    "collapsed": false
   },
   "outputs": [],
   "source": [
    "import os\n",
    "import numpy as np\n",
    "import nibabel as nib\n",
    "import scipy.stats\n",
    "import matplotlib as mpl\n",
    "from cmath import rect, phase\n",
    "import matplotlib.pyplot as plt"
   ]
  },
  {
   "cell_type": "code",
   "execution_count": 3,
   "metadata": {
    "collapsed": false
   },
   "outputs": [],
   "source": [
    "def mean_angle(rad):\n",
    "    return (phase(sum(rect(1, d) for d in rad)/float(len(rad))))"
   ]
  },
  {
   "cell_type": "code",
   "execution_count": 4,
   "metadata": {
    "collapsed": false
   },
   "outputs": [],
   "source": [
    "img = nib.load('brain.nii')\n",
    "data = img.get_data()"
   ]
  },
  {
   "cell_type": "code",
   "execution_count": 187,
   "metadata": {
    "collapsed": false
   },
   "outputs": [
    {
     "data": {
      "text/plain": [
       "<matplotlib.text.Text at 0x7f999309ebe0>"
      ]
     },
     "execution_count": 187,
     "metadata": {},
     "output_type": "execute_result"
    },
    {
     "data": {
      "image/png": "[encoded data removed]",
      "text/plain": [
       "<matplotlib.figure.Figure at 0x7f999229f908>"
      ]
     },
     "metadata": {},
     "output_type": "display_data"
    }
   ],
   "source": [
    "slice = data[:,28,:,0]\n",
    "\n",
    "# XXX DUMMY SLICE\n",
    "\n",
    "\"\"\"slice = np.zeros(slice.shape)\n",
    "xx, yy = np.mgrid[:slice.shape[0], :slice.shape[1]]\n",
    "x0, y0, radius = 15, 15, 10\n",
    "circle = (xx - x0)**2 + (yy - y0)**2\n",
    "slice = circle <= radius**2\n",
    "slice = 255 * slice.astype(np.uint8)\"\"\"\n",
    "\n",
    "\n",
    "plt.figure()\n",
    "plt.imshow(slice.T, interpolation='none')\n",
    "plt.title(\"White matter mask\")"
   ]
  },
  {
   "cell_type": "code",
   "execution_count": 188,
   "metadata": {
    "collapsed": false,
    "scrolled": true
   },
   "outputs": [
    {
     "data": {
      "text/plain": [
       "<matplotlib.image.AxesImage at 0x7f99930ed048>"
      ]
     },
     "execution_count": 188,
     "metadata": {},
     "output_type": "execute_result"
    },
    {
     "data": {
      "image/png": "[encoded data removed]",
      "text/plain": [
       "<matplotlib.figure.Figure at 0x7f9992b6ef28>"
      ]
     },
     "metadata": {},
     "output_type": "display_data"
    }
   ],
   "source": [
    "border  = np.zeros_like(slice)\n",
    "for (i, j), val in np.ndenumerate(slice):\n",
    "    if i > 0 and i < slice.shape[0] - 1 and j > 0 and j < slice.shape[1] - 1:\n",
    "        if val > 0:\n",
    "            if slice[i - 1, j] == 0 \\\n",
    "             or slice[i + 1, j] == 0 \\\n",
    "                or slice[i, j - 1] == 0 \\\n",
    "                or slice[i, j + 1] == 0:\n",
    "                    border[i, j] = 1\n",
    "                    \n",
    "plt.figure()\n",
    "plt.title(\"White matter outline\")\n",
    "plt.imshow(border.T, interpolation='none')\n",
    "                "
   ]
  },
  {
   "cell_type": "code",
   "execution_count": 189,
   "metadata": {
    "collapsed": false
   },
   "outputs": [],
   "source": [
    "idx = np.where(border)\n",
    "n_idx = idx[0].size"
   ]
  },
  {
   "cell_type": "code",
   "execution_count": 203,
   "metadata": {
    "collapsed": false,
    "scrolled": true
   },
   "outputs": [],
   "source": [
    "# %debug\n",
    "n_particles = 100\n",
    "density_map = np.zeros_like(slice, dtype=np.float)\n",
    "direction_map = np.zeros_like(slice, dtype=np.complex)   # N.B. direction is stored as complex numbers (vector representation in the complex plane) to facilitate averaging\n",
    "\n",
    "for particle_idx in range(n_particles):\n",
    "    if (particle_idx + 1) % 1000 == 0:\n",
    "        print(\"Progress: \" + str(particle_idx + 1) + \" out of \" + str(n_particles))\n",
    "    start_voxel_idx = np.random.randint(n_idx)\n",
    "    start_voxel = np.array([idx[0][start_voxel_idx], idx[1][start_voxel_idx]], dtype=np.int)\n",
    "    initial_direction_ang = scipy.stats.uniform(0., 2 * np.pi).rvs()\n",
    "    initial_direction_vector = np.array([np.cos(initial_direction_ang), np.sin(initial_direction_ang)])\n",
    "\n",
    "    #\n",
    "    #   simulate particle trajectory\n",
    "    #\n",
    "\n",
    "    voxel_scale = 1.   # scale factor between \"voxel space\" and \"particle space\"\n",
    "\n",
    "    trajectory_x = []\n",
    "    trajectory_y = []\n",
    "#     print(\"Initial ang: \" + str(initial_direction_ang) + \" dir: \" + str((initial_direction_vector[0], initial_direction_vector[1])))\n",
    "    x0, y0, x1, y1 = 0., 0., initial_direction_vector[0], initial_direction_vector[1]\n",
    "    i = 0\n",
    "    dt = .1\n",
    "    m = 100. # particle mass\n",
    "    lmbd = .1 # damping parameter\n",
    "    noise_ampl = 1.\n",
    "    while True:\n",
    "        noise_x = noise_ampl * (np.random.rand() - .5)\n",
    "        noise_y = noise_ampl * (np.random.rand() - .5)\n",
    "        dx0 = x1\n",
    "        dy0 = y1\n",
    "        dx1 = (- lmbd * x1 + noise_x) / m\n",
    "        dy1 = (- lmbd * y1 + noise_y) / m\n",
    "\n",
    "        x0 += dt * dx0\n",
    "        y0 += dt * dy0\n",
    "        x1 += dt * dx1\n",
    "        y1 += dt * dy1\n",
    "\n",
    "        i += 1\n",
    "\n",
    "        trajectory_x.append(x0)\n",
    "        trajectory_y.append(y0)\n",
    "\n",
    "        voxel_x = np.round(voxel_scale * x0).astype(np.int) + start_voxel[0]\n",
    "        voxel_y = np.round(voxel_scale * y0).astype(np.int) + start_voxel[1]\n",
    "        \n",
    "        if i > 1000 or slice[voxel_x, voxel_y] == 0:\n",
    "            break\n",
    "#     print((np.amin(trajectory_x), np.amax(trajectory_x)))\n",
    "#     print((np.amin(trajectory_y), np.amax(trajectory_y)))\n",
    "    # calculate voxel coordinates\n",
    "    trajectory_voxel_x = np.round(voxel_scale * np.array(trajectory_x)).astype(np.int)\n",
    "    trajectory_voxel_y = np.round(voxel_scale * np.array(trajectory_y)).astype(np.int)\n",
    "\n",
    "    trajectory_voxel_x += start_voxel[0]\n",
    "    trajectory_voxel_y += start_voxel[1]\n",
    "\n",
    "    for i in range(1, len(trajectory_voxel_x)):\n",
    "        density_map[trajectory_voxel_x[i], trajectory_voxel_y[i]] += 1.\n",
    "        direction_vec = np.array([trajectory_x[i] - trajectory_x[i-1], trajectory_y[i] - trajectory_y[i-1]])\n",
    "        \n",
    "        if np.linalg.norm(direction_vec) > 0.:\n",
    "            direction_vec /= np.linalg.norm(direction_vec)\n",
    "            direction_ang = np.arctan2(direction_vec[1], direction_vec[0])\n",
    "            if direction_ang < 0.:\n",
    "                direction_ang += np.pi\n",
    "            direction_map[trajectory_voxel_x[i], trajectory_voxel_y[i]] += rect(1, direction_ang)\n",
    "        \n",
    "#\n",
    "#   convert direction back from complex format to angle\n",
    "#\n",
    "\n",
    "direction_map_ang = np.empty_like(slice, dtype=np.float)\n",
    "for (i, j), _ in np.ndenumerate(direction_map):\n",
    "    direction_map_ang[i, j] = np.abs(np.pi-phase(direction_map[i, j]))\n",
    "    # density /= float(n_particles)"
   ]
  },
  {
   "cell_type": "code",
   "execution_count": 204,
   "metadata": {
    "collapsed": false
   },
   "outputs": [
    {
     "data": {
      "text/plain": [
       "<matplotlib.colorbar.Colorbar at 0x7f9991eefc50>"
      ]
     },
     "execution_count": 204,
     "metadata": {},
     "output_type": "execute_result"
    },
    {
     "data": {
      "image/png": "[encoded data removed]",
      "text/plain": [
       "<matplotlib.figure.Figure at 0x7f9991ac9048>"
      ]
     },
     "metadata": {},
     "output_type": "display_data"
    },
    {
     "data": {
      "image/png": "[encoded data removed]",
      "text/plain": [
       "<matplotlib.figure.Figure at 0x7f9991acbd30>"
      ]
     },
     "metadata": {},
     "output_type": "display_data"
    }
   ],
   "source": [
    "cmap = plt.cm.jet\n",
    "cmap.set_bad('w', 1.)\n",
    "\n",
    "plt.figure()\n",
    "masked_array = np.ma.array(density_map, mask=255 - slice)\n",
    "plt.imshow(masked_array.T, interpolation=\"none\")\n",
    "plt.title(\"Particle visit count\")\n",
    "plt.colorbar()\n",
    "\n",
    "#cmap = plt.cm.hsv\n",
    "#cmap.set_bad('w', 1.)\n",
    "#norm = mpl.colors.Normalize(vmin=0., vmax=np.pi)\n",
    "norm = None\n",
    "\n",
    "plt.figure()\n",
    "masked_array = np.ma.array(direction_map_ang, mask=255 - slice)\n",
    "plt.imshow(masked_array.T, interpolation='none', cmap=cmap, norm=norm)\n",
    "plt.title(\"Average angle\")\n",
    "plt.colorbar()\n"
   ]
  },
  {
   "cell_type": "code",
   "execution_count": null,
   "metadata": {
    "collapsed": true
   },
   "outputs": [],
   "source": []
  },
  {
   "cell_type": "code",
   "execution_count": null,
   "metadata": {
    "collapsed": true
   },
   "outputs": [],
   "source": []
  }
 ],
 "metadata": {
  "kernelspec": {
   "display_name": "Python 3",
   "language": "python",
   "name": "python3"
  },
  "language_info": {
   "codemirror_mode": {
    "name": "ipython",
    "version": 3
   },
   "file_extension": ".py",
   "mimetype": "text/x-python",
   "name": "python",
   "nbconvert_exporter": "python",
   "pygments_lexer": "ipython3",
   "version": "3.4.3"
  },
  "widgets": {
   "state": {},
   "version": "1.1.2"
  }
 },
 "nbformat": 4,
 "nbformat_minor": 0
}
