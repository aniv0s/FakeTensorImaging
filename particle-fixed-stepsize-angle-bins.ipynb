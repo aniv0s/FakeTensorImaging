{
 "cells": [
  {
   "cell_type": "code",
   "execution_count": 1,
   "metadata": {
    "collapsed": true
   },
   "outputs": [],
   "source": [
    "%matplotlib inline"
   ]
  },
  {
   "cell_type": "code",
   "execution_count": 2,
   "metadata": {
    "collapsed": false
   },
   "outputs": [],
   "source": [
    "import os\n",
    "import numpy as np\n",
    "import nibabel as nib\n",
    "import scipy.stats\n",
    "import matplotlib as mpl\n",
    "from cmath import rect, phase\n",
    "import matplotlib.pyplot as plt\n",
    "import matplotlib.colors as col\n",
    "from scipy.ndimage.filters import gaussian_filter"
   ]
  },
  {
   "cell_type": "code",
   "execution_count": 3,
   "metadata": {
    "collapsed": false
   },
   "outputs": [],
   "source": [
    "def mean_angle(rad):\n",
    "    return (phase(sum(rect(1, d) for d in rad)/float(len(rad))))"
   ]
  },
  {
   "cell_type": "code",
   "execution_count": 4,
   "metadata": {
    "collapsed": false
   },
   "outputs": [],
   "source": [
    "img = nib.load('brain.nii')\n",
    "data = img.get_data()"
   ]
  },
  {
   "cell_type": "code",
   "execution_count": 5,
   "metadata": {
    "collapsed": false
   },
   "outputs": [
    {
     "data": {
      "text/plain": [
       "<matplotlib.text.Text at 0x7f026481d748>"
      ]
     },
     "execution_count": 5,
     "metadata": {},
     "output_type": "execute_result"
    },
    {
     "data": {
      "image/png": "[encoded data removed]",
      "text/plain": [
       "<matplotlib.figure.Figure at 0x7f0264a99390>"
      ]
     },
     "metadata": {},
     "output_type": "display_data"
    }
   ],
   "source": [
    "slice = data[:,28,:,0]\n",
    "\n",
    "# XXX DUMMY SLICE\n",
    "\n",
    "slice = np.zeros(slice.shape)\n",
    "xx, yy = np.mgrid[:slice.shape[0], :slice.shape[1]]\n",
    "x0, y0, radius = 15, 15, 10\n",
    "circle = (xx - x0)**2 + (yy - y0)**2\n",
    "slice = circle <= radius**2\n",
    "slice = 255 * slice.astype(np.uint8)\n",
    "\n",
    "\n",
    "plt.figure()\n",
    "plt.imshow(slice.T, interpolation='none')\n",
    "plt.title(\"White matter mask\")"
   ]
  },
  {
   "cell_type": "code",
   "execution_count": 6,
   "metadata": {
    "collapsed": false,
    "scrolled": true
   },
   "outputs": [
    {
     "data": {
      "text/plain": [
       "<matplotlib.image.AxesImage at 0x7f0264809630>"
      ]
     },
     "execution_count": 6,
     "metadata": {},
     "output_type": "execute_result"
    },
    {
     "data": {
      "image/png": "[encoded data removed]",
      "text/plain": [
       "<matplotlib.figure.Figure at 0x7f0264815390>"
      ]
     },
     "metadata": {},
     "output_type": "display_data"
    }
   ],
   "source": [
    "border  = np.zeros_like(slice)\n",
    "for (i, j), val in np.ndenumerate(slice):\n",
    "    if i > 0 and i < slice.shape[0] - 1 and j > 0 and j < slice.shape[1] - 1:\n",
    "        if val > 0 and i < slice.shape[0]/3:\n",
    "            if slice[i - 1, j] == 0 \\\n",
    "             or slice[i + 1, j] == 0 \\\n",
    "                or slice[i, j - 1] == 0 \\\n",
    "                or slice[i, j + 1] == 0:\n",
    "                    border[i, j] = 1\n",
    "\n",
    "\n",
    "plt.figure()\n",
    "plt.title(\"White matter outline\")\n",
    "plt.imshow(border.T, interpolation='none')\n",
    "                "
   ]
  },
  {
   "cell_type": "code",
   "execution_count": 7,
   "metadata": {
    "collapsed": false
   },
   "outputs": [],
   "source": [
    "border_idx = np.where(border)\n",
    "n_border_voxels = border_idx[0].size"
   ]
  },
  {
   "cell_type": "code",
   "execution_count": 21,
   "metadata": {
    "collapsed": false
   },
   "outputs": [
    {
     "name": "stdout",
     "output_type": "stream",
     "text": [
      "Progress: 1000 out of 1100\n"
     ]
    },
    {
     "data": {
      "text/plain": [
       "'direction_map_ang = np.empty_like(slice, dtype=np.float)\\nfor (i, j), _ in np.ndenumerate(direction_map):\\n    direction_map_ang[i, j] = np.abs(np.pi - phase(direction_map[i, j]))\\n    # density /= float(n_particles)'"
      ]
     },
     "execution_count": 21,
     "metadata": {},
     "output_type": "execute_result"
    }
   ],
   "source": [
    "n_particles = 1100\n",
    "max_particle_steps = 1000\n",
    "n_orientation_bins = 16\n",
    "orientation_bins = np.linspace(0., np.pi, n_orientation_bins)   # left side of each bin\n",
    "orientation_bins_center = orientation_bins - orientation_bins[0] / 2.\n",
    "\n",
    "voxel_scale = 1.   # scale factor between \"voxel space\" and \"particle space\"\n",
    "dt = .5  # particle stepsize (in particle space)\n",
    "m = 10. # particle mass\n",
    "zeta = 0.  # drift strength - influence of density map gradient (try 50)\n",
    "noise_ampl = 1.\n",
    "\n",
    "density_map = np.zeros_like(slice, dtype=np.float)\n",
    "direction_map = np.zeros((slice.shape[0], slice.shape[1], n_orientation_bins))\n",
    "grad = [np.zeros_like(density_map), np.zeros_like(density_map)]  # gradient of the density map\n",
    "\n",
    "start_fibres_perpendicular = True  # set to `True` for starting fibres perpendicular to the surface; `False` to generate a random direction 0..2pi\n",
    "#start_fibres_perpendicular_range = [-np.pi / 4., np.pi / 4.]   # if ``start_fibres_perpendicular==True``, range of angle offsets from precisely normal to the sujrface\n",
    "\n",
    "if start_fibres_perpendicular:\n",
    "    wm_mask_blurred = gaussian_filter(slice, sigma=2)\n",
    "    wm_gradx, wm_grady = np.gradient(wm_mask_blurred.astype(np.float))\n",
    "\n",
    "trajectories = []\n",
    "\n",
    "for particle_idx in range(n_particles):\n",
    "    if (particle_idx + 1) % 1000 == 0:\n",
    "        print(\"Progress: \" + str(particle_idx + 1) + \" out of \" + str(n_particles))\n",
    "    start_voxel_idx = np.random.randint(n_border_voxels)\n",
    "    start_voxel = np.array([border_idx[0][start_voxel_idx], border_idx[1][start_voxel_idx]], dtype=np.int)\n",
    "    if start_fibres_perpendicular:\n",
    "        initial_direction_vector = np.array([wm_gradx[start_voxel[0], start_voxel[1]], wm_grady[start_voxel[0], start_voxel[1]]])\n",
    "        \n",
    "        initial_direction_vector += np.array([scipy.stats.uniform(0., np.pi / 8.).rvs(), scipy.stats.uniform(0., np.pi / 8.).rvs()])\n",
    "        initial_direction_vector /= np.linalg.norm(initial_direction_vector)\n",
    "    else:\n",
    "        initial_direction_ang = scipy.stats.uniform(0., 2 * np.pi).rvs()\n",
    "        initial_direction_vector = np.array([np.cos(initial_direction_ang), np.sin(initial_direction_ang)])\n",
    "\n",
    "    #\n",
    "    #   simulate particle trajectory\n",
    "    #\n",
    "\n",
    "    #particle_trajectory = []\n",
    "    #particle_trajectory_voxel = []\n",
    "\n",
    "    pos = np.array([0., 0.])  # relative position of the particle (i.e. w.r.t. (0, 0))\n",
    "    vel = np.array([initial_direction_vector[0], initial_direction_vector[1]])  # velocity vector of the particle, always unit length\n",
    "    for i in range(max_particle_steps):\n",
    "\n",
    "        voxel_pos = np.round(voxel_scale * pos).astype(np.int) + start_voxel\n",
    "        \n",
    "        #\n",
    "        #  termination condition: particle exited WM mask\n",
    "        #\n",
    "        \n",
    "        if voxel_pos[0] < 0 or voxel_pos[0] >= slice.shape[0] \\\n",
    "         or voxel_pos[1] < 0 or voxel_pos[1] >= slice.shape[1] \\\n",
    "         or slice[tuple(voxel_pos)] == 0:\n",
    "            break\n",
    "\n",
    "                                                                                                                                                                                                                                                \n",
    "        #\n",
    "        #  logging\n",
    "        #\n",
    "\n",
    "        #particle_trajectory.append(np.copy(pos))\n",
    "        #particle_trajectory_voxel.append(np.copy(voxel_pos))\n",
    "\n",
    "        if i > 1:\n",
    "            density_map[tuple(voxel_pos)] += 1\n",
    "            direction_ang = np.arctan2(vel[1], vel[0])\n",
    "            if direction_ang < 0.:\n",
    "                direction_ang += np.pi   # put result in range [0..pi]\n",
    "            direction_ang_bin = np.digitize([direction_ang], orientation_bins, right=True)\n",
    "            direction_map[voxel_pos[0], voxel_pos[1], direction_ang_bin] += 1\n",
    "\n",
    "\n",
    "        #\n",
    "        #  update state\n",
    "        #\n",
    "\n",
    "        if particle_idx > 1 and (particle_idx + 1) % 100 == 0:\n",
    "                # recompute gradient of the density map\n",
    "                _density_map = density_map / np.amax(density_map)\n",
    "                grad = np.gradient(gaussian_filter(_density_map, sigma=2))\n",
    "            \n",
    "        gradient_vec = np.array([grad[0][tuple(voxel_pos)], grad[1][tuple(voxel_pos)]])                \n",
    "\n",
    "        noise = noise_ampl * np.random.randn(2)#noise = noise_ampl * scipy.stats.norm(0., 1.).rvs(2) # N.B. rvs() is slow\n",
    "        dpos = vel\n",
    "        dvel = (-zeta * gradient_vec + noise) / m\n",
    "\n",
    "        pos += dt * dpos\n",
    "        vel += dt * dvel\n",
    "        vel /= (vel[0]**2 + vel[1]**2)**.5    # velocity stays constant (= 1); fixed stepsize!\n",
    "        "
   ]
  },
  {
   "cell_type": "code",
   "execution_count": 28,
   "metadata": {
    "collapsed": false
   },
   "outputs": [
    {
     "data": {
      "text/plain": [
       "<matplotlib.colorbar.Colorbar at 0x7f02644c8780>"
      ]
     },
     "execution_count": 28,
     "metadata": {},
     "output_type": "execute_result"
    },
    {
     "data": {
      "image/png": "[encoded data removed]",
      "text/plain": [
       "<matplotlib.figure.Figure at 0x7f0263bb46a0>"
      ]
     },
     "metadata": {},
     "output_type": "display_data"
    },
    {
     "data": {
      "image/png": "[encoded data removed]",
      "text/plain": [
       "<matplotlib.figure.Figure at 0x7f0264056518>"
      ]
     },
     "metadata": {},
     "output_type": "display_data"
    }
   ],
   "source": [
    "cmap = plt.cm.jet\n",
    "cmap.set_bad('w', 1.)\n",
    "\n",
    "def mkcmap():\n",
    "    white = '#ffffff'\n",
    "    black = '#000000'\n",
    "    red = '#ff0000'\n",
    "    blue = '#0000ff'\n",
    "    anglemap = col.LinearSegmentedColormap.from_list(\n",
    "        'anglemap', [black, red, white, blue, black], N=256, gamma=1)\n",
    "    return anglemap\n",
    "\n",
    "#cmap_angle = mkcmap()\n",
    "cmap_angle = plt.cm.hsv\n",
    "cmap_angle.set_bad('w', 1.)\n",
    "\n",
    "\"\"\"if n_particles <= 100:\n",
    "    plt.figure()\n",
    "    masked_array = np.ma.array(density_map, mask=255 - slice)\n",
    "    plt.imshow(masked_array.T, interpolation=\"none\")\n",
    "    plt.title(\"Particle visit count + trajectories\")\n",
    "    for particle_idx in range(n_particles):\n",
    "        _traj = np.array(trajectories[particle_idx])\n",
    "        plt.plot(_traj[:, 0], _traj[:, 1], \"o-\")\n",
    "    plt.colorbar()\"\"\"\n",
    "\n",
    "plt.figure()\n",
    "masked_array = np.ma.array(density_map, mask=255 - slice)\n",
    "plt.imshow(masked_array.T, interpolation=\"none\")\n",
    "plt.title(\"Particle visit count\")\n",
    "plt.colorbar()\n",
    "\n",
    "#cmap = plt.cm.hsv\n",
    "#cmap.set_bad('w', 1.)\n",
    "norm = mpl.colors.Normalize(vmin=-np.pi/2., vmax=np.pi/2.)\n",
    "#norm = None\n",
    "\n",
    "\n",
    "dominant_direction_map = np.empty_like(density_map)\n",
    "for i in range(density_map.shape[0]):\n",
    "    for j in range(density_map.shape[1]):\n",
    "        idx = np.where(direction_map[i, j, :] > 0)[0]\n",
    "        _list = []\n",
    "        for k in idx:\n",
    "            _list.extend(int(direction_map[i, j, k]) * [orientation_bins_center[k]])\n",
    "        _list = np.array(_list)\n",
    "        if len(_list) > 0:\n",
    "#             dominant_direction_map[i, j] = mean_angle(np.array(_list))\n",
    "            dominant_direction_map[i, j] = mean_angle(2 * np.array(_list)) / 2.\n",
    "#             print(\"min=\"+str(np.amin(_list))+\", max=\"+str(np.amax(_list)))\n",
    "        else:\n",
    "            dominant_direction_map[i, j] = np.nan\n",
    "                \n",
    "#         if len(idx) == 0:\n",
    "#             dominant_direction_map[i, j] = np.nan\n",
    "#         else:\n",
    "#             dominant_direction_map[i, j] = mean_angle(direction_map[i, j, idx] * [orientation_bins[idx]])\n",
    "#             print(\"idx = \" + str(idx) + \", val = \" + str(direction_map[i, j, idx]) + \", val2 = \" + str(orientation_bins[idx]) + \", ang = \" + str(dominant_direction_map[i, j]))\n",
    "\n",
    "plt.figure()\n",
    "masked_array = np.ma.array(dominant_direction_map, mask=255 - slice)\n",
    "plt.imshow(masked_array.T, interpolation='none', cmap=cmap_angle, norm=norm)\n",
    "plt.title(\"Average angle\")\n",
    "plt.colorbar()\n"
   ]
  },
  {
   "cell_type": "code",
   "execution_count": null,
   "metadata": {
    "collapsed": false,
    "scrolled": true
   },
   "outputs": [],
   "source": [
    "_density_map = density_map / np.amax(density_map)\n",
    "grad = np.gradient(gaussian_filter(_density_map, sigma=2))\n",
    "\n",
    "plt.figure()\n",
    "plt.imshow(gaussian_filter(_density_map, sigma=2).T)\n",
    "plt.colorbar()\n",
    "\n",
    "plt.figure()\n",
    "X, Y = np.meshgrid(np.linspace(0, _density_map.shape[0], _density_map.shape[0]), np.linspace(0, _density_map.shape[1], _density_map.shape[1]))\n",
    "plt.quiver(X.T, Y.T, grad[0], grad[1])"
   ]
  },
  {
   "cell_type": "code",
   "execution_count": null,
   "metadata": {
    "collapsed": true
   },
   "outputs": [],
   "source": []
  }
 ],
 "metadata": {
  "kernelspec": {
   "display_name": "Python 3",
   "language": "python",
   "name": "python3"
  },
  "language_info": {
   "codemirror_mode": {
    "name": "ipython",
    "version": 3
   },
   "file_extension": ".py",
   "mimetype": "text/x-python",
   "name": "python",
   "nbconvert_exporter": "python",
   "pygments_lexer": "ipython3",
   "version": "3.4.3"
  },
  "widgets": {
   "state": {},
   "version": "1.1.2"
  }
 },
 "nbformat": 4,
 "nbformat_minor": 0
}
